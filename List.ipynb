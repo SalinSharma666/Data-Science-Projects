{
  "nbformat": 4,
  "nbformat_minor": 0,
  "metadata": {
    "colab": {
      "provenance": [],
      "authorship_tag": "ABX9TyMPZVoGq+82PUy+FvSrjkt6",
      "include_colab_link": true
    },
    "kernelspec": {
      "name": "python3",
      "display_name": "Python 3"
    },
    "language_info": {
      "name": "python"
    }
  },
  "cells": [
    {
      "cell_type": "markdown",
      "metadata": {
        "id": "view-in-github",
        "colab_type": "text"
      },
      "source": [
        "<a href=\"https://colab.research.google.com/github/SalinSharma666/Data-Science-Projects/blob/main/List.ipynb\" target=\"_parent\"><img src=\"https://colab.research.google.com/assets/colab-badge.svg\" alt=\"Open In Colab\"/></a>"
      ]
    },
    {
      "cell_type": "markdown",
      "source": [
        "**LIST**"
      ],
      "metadata": {
        "id": "2Xfa5baRa1Tu"
      }
    },
    {
      "cell_type": "markdown",
      "source": [
        "Lists are indexable, ordered, mutable data type in Python."
      ],
      "metadata": {
        "id": "_qBmMKcUa4MG"
      }
    },
    {
      "cell_type": "code",
      "source": [
        "a = list()\n",
        "b = []\n",
        "c = [\"Aristocrat\", \"bureaucrat\"]\n",
        "\n",
        "print(type(a))\n",
        "print(type(b))\n",
        "print(type(c))"
      ],
      "metadata": {
        "colab": {
          "base_uri": "https://localhost:8080/"
        },
        "id": "IuhyhEpibABa",
        "outputId": "8ad87d15-193a-40e2-b2cd-efad2499993c"
      },
      "execution_count": null,
      "outputs": [
        {
          "output_type": "stream",
          "name": "stdout",
          "text": [
            "<class 'list'>\n",
            "<class 'list'>\n",
            "<class 'list'>\n"
          ]
        }
      ]
    },
    {
      "cell_type": "markdown",
      "source": [
        "**Slicing**"
      ],
      "metadata": {
        "id": "owHQLSRhbacN"
      }
    },
    {
      "cell_type": "markdown",
      "source": [
        "Slicing is when we extract a certain portion of the data as per our requirement."
      ],
      "metadata": {
        "id": "Y0vfLo0rbd8_"
      }
    },
    {
      "cell_type": "code",
      "source": [
        "a = [\"Ram\",\"Shyam\",\"Apple\",\"Goat\",\"Dog\",\"Egg\",\"Fish\",\"Home\",\"Ice\",\"James\",\"Kite\",\"Life\"]"
      ],
      "metadata": {
        "id": "j8TgXCWObmdm"
      },
      "execution_count": null,
      "outputs": []
    },
    {
      "cell_type": "code",
      "source": [
        "print(a[0])\n",
        "print(a[0:5])\n",
        "print(a[0:8:2])\n",
        "print(a[:-3])"
      ],
      "metadata": {
        "colab": {
          "base_uri": "https://localhost:8080/"
        },
        "id": "BDled1Uabbzt",
        "outputId": "4e148447-d212-4256-8f45-70a095ece24a"
      },
      "execution_count": null,
      "outputs": [
        {
          "output_type": "stream",
          "name": "stdout",
          "text": [
            "Ram\n",
            "['Ram', 'Shyam', 'Apple', 'Goat', 'Dog']\n",
            "['Ram', 'Apple', 'Dog', 'Fish']\n",
            "['Ram', 'Shyam', 'Apple', 'Goat', 'Dog', 'Egg', 'Fish', 'Home', 'Ice']\n"
          ]
        }
      ]
    },
    {
      "cell_type": "markdown",
      "source": [
        "List Operations"
      ],
      "metadata": {
        "id": "fej0fS_RcdzM"
      }
    },
    {
      "cell_type": "code",
      "source": [
        "a = [\"A\",\"B\",\"C\"]\n",
        "b = [1,2,3]\n",
        "c = a+b\n",
        "\n",
        "print(c)"
      ],
      "metadata": {
        "colab": {
          "base_uri": "https://localhost:8080/"
        },
        "id": "yGmo6lKkcRn8",
        "outputId": "179b8e06-c838-474c-8ba6-ca52875bc063"
      },
      "execution_count": null,
      "outputs": [
        {
          "output_type": "stream",
          "name": "stdout",
          "text": [
            "['A', 'B', 'C', 1, 2, 3]\n"
          ]
        }
      ]
    },
    {
      "cell_type": "code",
      "source": [
        "a = [2,4,6]\n",
        "\n",
        "print(a*2)"
      ],
      "metadata": {
        "colab": {
          "base_uri": "https://localhost:8080/"
        },
        "id": "tC3sNjNIchz7",
        "outputId": "65c63af1-5676-429d-a2d2-aca6d9b6ee9d"
      },
      "execution_count": null,
      "outputs": [
        {
          "output_type": "stream",
          "name": "stdout",
          "text": [
            "[2, 4, 6, 2, 4, 6]\n"
          ]
        }
      ]
    },
    {
      "cell_type": "markdown",
      "source": [
        "Create"
      ],
      "metadata": {
        "id": "vx0vyZk4dmEg"
      }
    },
    {
      "cell_type": "code",
      "source": [
        "list = []\n",
        "\n",
        "n = int(input(\"Enter n = \"))\n",
        "for i in range(n):\n",
        "  x = input(\"Enter objects = \")\n",
        "  list = list+[x]\n",
        "print(list)"
      ],
      "metadata": {
        "colab": {
          "base_uri": "https://localhost:8080/"
        },
        "id": "1KEaMwZncn3m",
        "outputId": "96c3c08d-0444-440c-d61a-4fa574d4a855"
      },
      "execution_count": null,
      "outputs": [
        {
          "output_type": "stream",
          "name": "stdout",
          "text": [
            "Enter n = 3\n",
            "Enter objects = Salin\n",
            "Enter objects = Henry\n",
            "Enter objects = Tyler\n",
            "['Salin', 'Henry', 'Tyler']\n"
          ]
        }
      ]
    },
    {
      "cell_type": "code",
      "source": [
        "l1 = []\n",
        "\n",
        "p = int(input('Enter p = '))\n",
        "\n",
        "for i in range(p):\n",
        "  q = input('Enter items = ')\n",
        "  l1 = l1+[q]\n",
        "\n",
        "print(l1)"
      ],
      "metadata": {
        "colab": {
          "base_uri": "https://localhost:8080/"
        },
        "id": "pq938x81bYkJ",
        "outputId": "71911b76-4a8a-4f71-b7c9-7bf06ee07449"
      },
      "execution_count": null,
      "outputs": [
        {
          "output_type": "stream",
          "name": "stdout",
          "text": [
            "Enter p = 3\n",
            "Enter items = Bag\n",
            "Enter items = Pen\n",
            "Enter items = Copy\n",
            "['Bag', 'Pen', 'Copy']\n"
          ]
        }
      ]
    },
    {
      "cell_type": "markdown",
      "source": [
        "Read"
      ],
      "metadata": {
        "id": "NkUbNUYpeHmZ"
      }
    },
    {
      "cell_type": "code",
      "source": [
        "a = [\"Box\",\"Pen\",\"Pencil\"]\n",
        "\n",
        "for i in a:\n",
        "  print(i)"
      ],
      "metadata": {
        "colab": {
          "base_uri": "https://localhost:8080/"
        },
        "id": "umHZjp2qeIQO",
        "outputId": "79b70cf1-125c-4be4-c93e-8a645c83f9f6"
      },
      "execution_count": null,
      "outputs": [
        {
          "output_type": "stream",
          "name": "stdout",
          "text": [
            "Box\n",
            "Pen\n",
            "Pencil\n"
          ]
        }
      ]
    },
    {
      "cell_type": "markdown",
      "source": [
        "Update"
      ],
      "metadata": {
        "id": "99HbpmCteSPw"
      }
    },
    {
      "cell_type": "code",
      "source": [
        "a = [\"Box\",\"Pen\",\"Pencil\"]\n",
        "\n",
        "a[1] = \"Den\"\n",
        "\n",
        "print(a)"
      ],
      "metadata": {
        "colab": {
          "base_uri": "https://localhost:8080/"
        },
        "id": "Vkofy3fMeTki",
        "outputId": "24c22aee-a8cd-45cd-be68-0e234434cbea"
      },
      "execution_count": null,
      "outputs": [
        {
          "output_type": "stream",
          "name": "stdout",
          "text": [
            "['Box', 'Den', 'Pencil']\n"
          ]
        }
      ]
    },
    {
      "cell_type": "markdown",
      "source": [
        "Delete\n"
      ],
      "metadata": {
        "id": "xbJS_ugnfL2k"
      }
    },
    {
      "cell_type": "code",
      "source": [
        "a = [\"Ram\",\"Shyam\",\"Apple\",\"Goat\",\"Dog\",\"Egg\",\"Fish\",\"Home\",\"Ice\",\"James\",\"Kite\",\"Life\"]\n",
        "\n",
        "del a[5]\n",
        "\n",
        "print(a)"
      ],
      "metadata": {
        "colab": {
          "base_uri": "https://localhost:8080/"
        },
        "id": "xGG__TfhfNNc",
        "outputId": "33ec82da-00b0-495e-b119-441222fdea00"
      },
      "execution_count": null,
      "outputs": [
        {
          "output_type": "stream",
          "name": "stdout",
          "text": [
            "['Ram', 'Shyam', 'Apple', 'Goat', 'Dog', 'Fish', 'Home', 'Ice', 'James', 'Kite', 'Life']\n"
          ]
        }
      ]
    },
    {
      "cell_type": "code",
      "source": [
        "a = [\"Ram\",\"Shyam\",\"Apple\",\"Goat\",\"Dog\",\"Egg\",\"Fish\",\"Home\",\"Ice\",\"James\",\"Kite\",\"Life\"]\n",
        "\n",
        "del a[1:6]\n",
        "\n",
        "print(a)"
      ],
      "metadata": {
        "colab": {
          "base_uri": "https://localhost:8080/"
        },
        "id": "GpYq0sIkfK2V",
        "outputId": "30f9b067-f133-499f-f195-45512c4ca186"
      },
      "execution_count": null,
      "outputs": [
        {
          "output_type": "stream",
          "name": "stdout",
          "text": [
            "['Ram', 'Fish', 'Home', 'Ice', 'James', 'Kite', 'Life']\n"
          ]
        }
      ]
    },
    {
      "cell_type": "code",
      "source": [
        "l = []\n",
        "\n",
        "n = int(input(\"Enter a number = \"))\n",
        "\n",
        "for i  in range(n):\n",
        "  a = int(input(\"Enter number = \"))\n",
        "  l = l + [a]\n",
        "\n",
        "print(l)\n"
      ],
      "metadata": {
        "colab": {
          "base_uri": "https://localhost:8080/"
        },
        "id": "C7w3qSpRh0Zr",
        "outputId": "b52c946a-9554-4c8c-bc60-04227c08e69a"
      },
      "execution_count": null,
      "outputs": [
        {
          "output_type": "stream",
          "name": "stdout",
          "text": [
            "Enter a number = 8\n",
            "Enter number = 55\n",
            "Enter number = 99\n",
            "Enter number = 44\n",
            "Enter number = 33\n",
            "Enter number = 5245\n",
            "Enter number = 524\n",
            "Enter number = 895\n",
            "Enter number = 986532\n",
            "[55, 99, 44, 33, 5245, 524, 895, 986532]\n"
          ]
        }
      ]
    },
    {
      "cell_type": "code",
      "source": [
        "print(max(l))\n",
        "print(min(l))\n"
      ],
      "metadata": {
        "colab": {
          "base_uri": "https://localhost:8080/"
        },
        "id": "bmjRCm65iSXk",
        "outputId": "e87ceee5-7594-4b9a-9da9-9a509938ff9e"
      },
      "execution_count": null,
      "outputs": [
        {
          "output_type": "stream",
          "name": "stdout",
          "text": [
            "986532\n",
            "33\n"
          ]
        }
      ]
    },
    {
      "cell_type": "code",
      "source": [
        "l.sort()\n",
        "print(l)"
      ],
      "metadata": {
        "colab": {
          "base_uri": "https://localhost:8080/"
        },
        "id": "Lq-xeBm5iaM2",
        "outputId": "53ab6d54-74b2-4f8d-caf4-64930d34054a"
      },
      "execution_count": null,
      "outputs": [
        {
          "output_type": "stream",
          "name": "stdout",
          "text": [
            "[33, 44, 55, 99, 524, 895, 5245, 986532]\n"
          ]
        }
      ]
    },
    {
      "cell_type": "code",
      "source": [
        "l.reverse()\n",
        "print(l)"
      ],
      "metadata": {
        "colab": {
          "base_uri": "https://localhost:8080/"
        },
        "id": "XCzX1-tfio4N",
        "outputId": "30898e45-2d14-4238-c08b-853913e23b85"
      },
      "execution_count": null,
      "outputs": [
        {
          "output_type": "stream",
          "name": "stdout",
          "text": [
            "[986532, 5245, 895, 524, 99, 55, 44, 33]\n"
          ]
        }
      ]
    },
    {
      "cell_type": "code",
      "source": [
        "a = [\"Ram\",\"Shyam\",\"Apple\",\"Goat\",\"Dog\",\"Egg\",\"Fish\",\"Home\",\"Ice\",\"James\",\"Kite\",\"Life\"]\n",
        "\n",
        "a.remove(\"Ram\")\n",
        "\n",
        "print(a)"
      ],
      "metadata": {
        "colab": {
          "base_uri": "https://localhost:8080/"
        },
        "id": "DlPoG0WujDzo",
        "outputId": "9175c0b2-bcda-46b2-88c6-7ac697b1e144"
      },
      "execution_count": null,
      "outputs": [
        {
          "output_type": "stream",
          "name": "stdout",
          "text": [
            "['Shyam', 'Apple', 'Goat', 'Dog', 'Egg', 'Fish', 'Home', 'Ice', 'James', 'Kite', 'Life']\n"
          ]
        }
      ]
    },
    {
      "cell_type": "code",
      "source": [
        "del a[2]\n",
        "\n",
        "print(a)"
      ],
      "metadata": {
        "colab": {
          "base_uri": "https://localhost:8080/"
        },
        "id": "juUcLG8JjMys",
        "outputId": "b8c869f3-4a49-4036-cbc7-7bbe339ff9f1"
      },
      "execution_count": null,
      "outputs": [
        {
          "output_type": "stream",
          "name": "stdout",
          "text": [
            "['Shyam', 'Apple', 'Dog', 'Egg', 'Fish', 'Home', 'Ice', 'James', 'Kite', 'Life']\n"
          ]
        }
      ]
    },
    {
      "cell_type": "code",
      "source": [
        "#extend\n",
        "\n",
        "a = [\"Bag\",\"Pen\",\"Paper\"]\n",
        "b = [2,4,65]\n",
        "\n",
        "a.extend(b)\n",
        "print(a)"
      ],
      "metadata": {
        "colab": {
          "base_uri": "https://localhost:8080/"
        },
        "id": "WuhdO5HajTI3",
        "outputId": "fcb8275b-1ae8-4782-8f56-dc034ab68d71"
      },
      "execution_count": null,
      "outputs": [
        {
          "output_type": "stream",
          "name": "stdout",
          "text": [
            "['Bag', 'Pen', 'Paper', 2, 4, 65]\n"
          ]
        }
      ]
    },
    {
      "cell_type": "code",
      "source": [
        "#append\n",
        "a = [\"Bag\",\"Pen\",\"Paper\"]\n",
        "b = 65\n",
        "\n",
        "a.append(b)\n",
        "\n",
        "print(a)"
      ],
      "metadata": {
        "colab": {
          "base_uri": "https://localhost:8080/"
        },
        "id": "t2P7BbH2kfyN",
        "outputId": "c25b6618-6f91-4c03-f37d-9bea04e0adc6"
      },
      "execution_count": null,
      "outputs": [
        {
          "output_type": "stream",
          "name": "stdout",
          "text": [
            "['Bag', 'Pen', 'Paper', 65]\n"
          ]
        }
      ]
    },
    {
      "cell_type": "code",
      "source": [
        "a = [\"Bag\",\"Pen\",\"Paper\"]\n",
        "b = [2,4,65]\n",
        "\n",
        "a.append(b)\n",
        "\n",
        "print(a)"
      ],
      "metadata": {
        "colab": {
          "base_uri": "https://localhost:8080/"
        },
        "id": "KfU68EWhj0oy",
        "outputId": "c0157ed8-ff8d-48bb-eaec-e44b74d21911"
      },
      "execution_count": null,
      "outputs": [
        {
          "output_type": "stream",
          "name": "stdout",
          "text": [
            "['Bag', 'Pen', 'Paper', [2, 4, 65]]\n"
          ]
        }
      ]
    },
    {
      "cell_type": "code",
      "source": [
        "#insert\n",
        "\n",
        "a  = [\"Bag\",\"Pen\",\"Paper\"]\n",
        "\n",
        "a.insert(1,\"Rock\")\n",
        "\n",
        "print(a)"
      ],
      "metadata": {
        "colab": {
          "base_uri": "https://localhost:8080/"
        },
        "id": "N4_4tNfQkBT9",
        "outputId": "2e3778a9-e4da-47ff-cd28-77deea9a7a60"
      },
      "execution_count": null,
      "outputs": [
        {
          "output_type": "stream",
          "name": "stdout",
          "text": [
            "['Bag', 'Rock', 'Pen', 'Paper']\n"
          ]
        }
      ]
    },
    {
      "cell_type": "code",
      "source": [
        "#pop\n",
        "a.pop(1)"
      ],
      "metadata": {
        "colab": {
          "base_uri": "https://localhost:8080/",
          "height": 35
        },
        "id": "tOxexpCFkO5_",
        "outputId": "a969e133-da79-4b49-f936-95a2e07164a0"
      },
      "execution_count": null,
      "outputs": [
        {
          "output_type": "execute_result",
          "data": {
            "text/plain": [
              "'Pen'"
            ],
            "application/vnd.google.colaboratory.intrinsic+json": {
              "type": "string"
            }
          },
          "metadata": {},
          "execution_count": 75
        }
      ]
    },
    {
      "cell_type": "code",
      "source": [
        "a = [\"Ram\",\"Shyam\",\"Apple\",\"Goat\",\"Dog\",\"Egg\",\"Fish\",\"Home\",\"Ice\",\"James\",\"Kite\",\"Life\"]\n",
        "\n",
        "a.index(\"Apple\")"
      ],
      "metadata": {
        "colab": {
          "base_uri": "https://localhost:8080/"
        },
        "id": "UqFlgcC0k0dJ",
        "outputId": "91314882-a718-4f92-9853-68becf3774d3"
      },
      "execution_count": null,
      "outputs": [
        {
          "output_type": "execute_result",
          "data": {
            "text/plain": [
              "2"
            ]
          },
          "metadata": {},
          "execution_count": 77
        }
      ]
    },
    {
      "cell_type": "markdown",
      "source": [
        "List Inside List\n"
      ],
      "metadata": {
        "id": "OKNNgsHulyg3"
      }
    },
    {
      "cell_type": "code",
      "source": [
        "a = [[1,3,5],\n",
        " [2,4,6],\n",
        "  [7,9,11],\n",
        "   [8,10,11]]"
      ],
      "metadata": {
        "id": "IvBS2cTul0U3"
      },
      "execution_count": 1,
      "outputs": []
    },
    {
      "cell_type": "code",
      "source": [
        "print(a)\n",
        "print(len(a))\n",
        "print(a[0])\n",
        "print(a[0][2])"
      ],
      "metadata": {
        "colab": {
          "base_uri": "https://localhost:8080/"
        },
        "id": "l5LoIX4umZ7K",
        "outputId": "31d6295d-6f0b-4115-d30f-67d24a01fb06"
      },
      "execution_count": 3,
      "outputs": [
        {
          "output_type": "stream",
          "name": "stdout",
          "text": [
            "[[1, 3, 5], [2, 4, 6], [7, 9, 11], [8, 10, 11]]\n",
            "4\n",
            "[1, 3, 5]\n",
            "5\n"
          ]
        }
      ]
    },
    {
      "cell_type": "code",
      "source": [
        "a = [[\"Ram\",34,\"Doctor\"],[\"Shyam\",45,\"Engineer\"]]\n",
        "b = [[\"Salin\",23,\"Data Scientist\"]]\n",
        "\n",
        "c = a+b\n",
        "\n",
        "print(c)"
      ],
      "metadata": {
        "colab": {
          "base_uri": "https://localhost:8080/"
        },
        "id": "YPgiecWFm6ZZ",
        "outputId": "4cdd5eb1-8ae4-43f8-8f38-b6dd1b41d0a0"
      },
      "execution_count": 6,
      "outputs": [
        {
          "output_type": "stream",
          "name": "stdout",
          "text": [
            "[['Ram', 34, 'Doctor'], ['Shyam', 45, 'Engineer'], ['Salin', 23, 'Data Scientist']]\n"
          ]
        }
      ]
    },
    {
      "cell_type": "code",
      "source": [
        "print(c[1][2])"
      ],
      "metadata": {
        "colab": {
          "base_uri": "https://localhost:8080/"
        },
        "id": "N-p3efWBne5C",
        "outputId": "ed997ef1-1f21-4ff8-ee0d-535d5c76f18e"
      },
      "execution_count": 8,
      "outputs": [
        {
          "output_type": "stream",
          "name": "stdout",
          "text": [
            "Engineer\n"
          ]
        }
      ]
    },
    {
      "cell_type": "code",
      "source": [
        "data = []\n",
        "\n",
        "n = int(input(\"Enter a number = \"))\n",
        "\n",
        "for i in range(n):\n",
        "  name = input(\"Enter name = \")\n",
        "  add = input(\"Enter address = \")\n",
        "  ph = int(input(\"Enter number = \"))\n",
        "  data.append([name,add,ph])\n",
        "\n",
        "print(data)"
      ],
      "metadata": {
        "colab": {
          "base_uri": "https://localhost:8080/"
        },
        "id": "Ytijo0E1nwsL",
        "outputId": "e40a2236-5b8c-4c67-fe94-a50340b5873b"
      },
      "execution_count": 9,
      "outputs": [
        {
          "output_type": "stream",
          "name": "stdout",
          "text": [
            "Enter a number = 3\n",
            "Enter name = Ram\n",
            "Enter address = Bara\n",
            "Enter number = 911\n",
            "Enter name = Shyam\n",
            "Enter address = Ktm\n",
            "Enter number = 100\n",
            "Enter name = Hari\n",
            "Enter address = Kailali\n",
            "Enter number = 901\n",
            "[['Ram', 'Bara', 911], ['Shyam', 'Ktm', 100], ['Hari', 'Kailali', 901]]\n"
          ]
        }
      ]
    },
    {
      "cell_type": "code",
      "source": [
        "for i in data:\n",
        "  if \"Ram\" in i:\n",
        "    print(i)"
      ],
      "metadata": {
        "id": "8v64TFa5lx8y"
      },
      "execution_count": 13,
      "outputs": []
    },
    {
      "cell_type": "code",
      "source": [
        "name = input(\"Enter name you want to search = \")\n",
        "\n",
        "for i in data:\n",
        "  if name in i:\n",
        "    print(i)"
      ],
      "metadata": {
        "colab": {
          "base_uri": "https://localhost:8080/"
        },
        "id": "SLr-M1qip7M0",
        "outputId": "6071eda1-6ea5-4bd9-cf4a-0a6218eb79dd"
      },
      "execution_count": 15,
      "outputs": [
        {
          "name": "stdout",
          "output_type": "stream",
          "text": [
            "Enter name you want to search = Shyam\n"
          ]
        }
      ]
    },
    {
      "cell_type": "code",
      "source": [
        "a = [['Ram', 34, 'Doctor'], ['Shyam', 45, 'Engineer'], ['Salin', 23, 'Data Scientist']]\n",
        "\n",
        "del a[1][2]\n",
        "\n",
        "print(a)"
      ],
      "metadata": {
        "colab": {
          "base_uri": "https://localhost:8080/"
        },
        "id": "eGkpZYZTqV9A",
        "outputId": "a65735c6-7391-434d-e241-d3e0b8ddcaf9"
      },
      "execution_count": 16,
      "outputs": [
        {
          "output_type": "stream",
          "name": "stdout",
          "text": [
            "[['Ram', 34, 'Doctor'], ['Shyam', 45], ['Salin', 23, 'Data Scientist']]\n"
          ]
        }
      ]
    },
    {
      "cell_type": "code",
      "source": [
        "a = [['Ram', 34, 'Doctor'], ['Shyam', 45, 'Engineer'], ['Salin', 23, 'Data Scientist']]\n",
        "\n",
        "a[2][0] = \"Sunita\"\n",
        "\n",
        "print(a)"
      ],
      "metadata": {
        "colab": {
          "base_uri": "https://localhost:8080/"
        },
        "id": "gphUTp1Vqo2P",
        "outputId": "844e2607-1e0d-45b3-daa7-376b579aa40e"
      },
      "execution_count": 17,
      "outputs": [
        {
          "output_type": "stream",
          "name": "stdout",
          "text": [
            "[['Ram', 34, 'Doctor'], ['Shyam', 45, 'Engineer'], ['Sunita', 23, 'Data Scientist']]\n"
          ]
        }
      ]
    },
    {
      "cell_type": "code",
      "source": [
        "a = []\n",
        "b = int(input(\"Enter number of rows = \"))\n",
        "for i in range(b):\n",
        "  num1 = int(input(\"Enter number1 = \"))\n",
        "  num2 = int(input(\"Enter number2 = \"))\n",
        "  a.append([num1,num2])\n",
        "\n",
        "print(a)"
      ],
      "metadata": {
        "colab": {
          "base_uri": "https://localhost:8080/"
        },
        "id": "BHarCMaYrHck",
        "outputId": "56057925-f13d-42b2-cf90-69a5b4346cff"
      },
      "execution_count": 18,
      "outputs": [
        {
          "output_type": "stream",
          "name": "stdout",
          "text": [
            "Enter number of rows = 3\n",
            "Enter number1 = 12\n",
            "Enter number2 = 21\n",
            "Enter number1 = 54\n",
            "Enter number2 = 45\n",
            "Enter number1 = 56\n",
            "Enter number2 = 65\n",
            "[[12, 21], [54, 45], [56, 65]]\n"
          ]
        }
      ]
    },
    {
      "cell_type": "code",
      "source": [
        "a = []\n",
        "b = int(input(\"Enter number of rows = \"))\n",
        "for i in range(b):\n",
        "  n = int(input(\"Enter number of cols = \"))\n",
        "  for i in range(n):\n",
        "    name = input(\"Enter name = \")\n",
        "    a.append([name])\n",
        "print(a)"
      ],
      "metadata": {
        "colab": {
          "base_uri": "https://localhost:8080/"
        },
        "id": "AJ-F4_pvs3Kv",
        "outputId": "300d7dd5-6bf6-4ea3-c31f-0efc373ab86e"
      },
      "execution_count": 19,
      "outputs": [
        {
          "output_type": "stream",
          "name": "stdout",
          "text": [
            "Enter number of rows = 2\n",
            "Enter number of cols = 2\n",
            "Enter name = Salin\n",
            "Enter name = Ram\n",
            "Enter number of cols = 1\n",
            "Enter name = Hari\n",
            "[['Salin'], ['Ram'], ['Hari']]\n"
          ]
        }
      ]
    }
  ]
}