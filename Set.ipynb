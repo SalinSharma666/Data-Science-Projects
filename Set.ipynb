{
  "nbformat": 4,
  "nbformat_minor": 0,
  "metadata": {
    "colab": {
      "provenance": [],
      "authorship_tag": "ABX9TyNc6v02/dV8ZTKJH7F8M4kp",
      "include_colab_link": true
    },
    "kernelspec": {
      "name": "python3",
      "display_name": "Python 3"
    },
    "language_info": {
      "name": "python"
    }
  },
  "cells": [
    {
      "cell_type": "markdown",
      "metadata": {
        "id": "view-in-github",
        "colab_type": "text"
      },
      "source": [
        "<a href=\"https://colab.research.google.com/github/SalinSharma666/Data-Science-Projects/blob/main/Set.ipynb\" target=\"_parent\"><img src=\"https://colab.research.google.com/assets/colab-badge.svg\" alt=\"Open In Colab\"/></a>"
      ]
    },
    {
      "cell_type": "markdown",
      "source": [
        "**Set**"
      ],
      "metadata": {
        "id": "CHkOkkGpTBf4"
      }
    },
    {
      "cell_type": "markdown",
      "source": [
        "Sets are unindexable, unordered data types that are mutable but do not store dupicate values."
      ],
      "metadata": {
        "id": "CyQruP25TD7v"
      }
    },
    {
      "cell_type": "code",
      "source": [
        "s = {2}\n",
        "\n",
        "print(type(s))"
      ],
      "metadata": {
        "colab": {
          "base_uri": "https://localhost:8080/"
        },
        "id": "JYNmYObYTOmO",
        "outputId": "36a42eaf-29fc-4013-919e-a8ce02120ace"
      },
      "execution_count": 2,
      "outputs": [
        {
          "output_type": "stream",
          "name": "stdout",
          "text": [
            "<class 'set'>\n"
          ]
        }
      ]
    },
    {
      "cell_type": "code",
      "source": [
        "s = set()\n"
      ],
      "metadata": {
        "id": "YOclQ7fTTaLJ"
      },
      "execution_count": null,
      "outputs": []
    },
    {
      "cell_type": "code",
      "source": [
        "s = {\"Apple\",\"Ball\",\"Cat\",\"Dog\"}\n",
        "print(s) #As sets are not indexable, upon printing, the values could by in any random order."
      ],
      "metadata": {
        "colab": {
          "base_uri": "https://localhost:8080/"
        },
        "id": "sf4qfHBjTdw-",
        "outputId": "8a3d03ad-b4f9-4964-b48f-ede084423778"
      },
      "execution_count": 3,
      "outputs": [
        {
          "output_type": "stream",
          "name": "stdout",
          "text": [
            "{'Apple', 'Ball', 'Dog', 'Cat'}\n"
          ]
        }
      ]
    },
    {
      "cell_type": "code",
      "source": [
        "s = {\"Ram\",\"Shyam\",\"Hari\",\"Krishna\",\"Gopal\"}\n",
        "s"
      ],
      "metadata": {
        "colab": {
          "base_uri": "https://localhost:8080/"
        },
        "id": "zq9hAFGcTs6c",
        "outputId": "bc93e35d-9f54-4a60-d809-9558c9b4899f"
      },
      "execution_count": 4,
      "outputs": [
        {
          "output_type": "execute_result",
          "data": {
            "text/plain": [
              "{'Gopal', 'Hari', 'Krishna', 'Ram', 'Shyam'}"
            ]
          },
          "metadata": {},
          "execution_count": 4
        }
      ]
    },
    {
      "cell_type": "code",
      "source": [
        "s[0]"
      ],
      "metadata": {
        "colab": {
          "base_uri": "https://localhost:8080/",
          "height": 170
        },
        "id": "fThSlSryT4Z2",
        "outputId": "c01ee0a3-af15-406f-92cd-dcf1d489398f"
      },
      "execution_count": 5,
      "outputs": [
        {
          "output_type": "error",
          "ename": "TypeError",
          "evalue": "ignored",
          "traceback": [
            "\u001b[0;31m---------------------------------------------------------------------------\u001b[0m",
            "\u001b[0;31mTypeError\u001b[0m                                 Traceback (most recent call last)",
            "\u001b[0;32m<ipython-input-5-c9c96910e542>\u001b[0m in \u001b[0;36m<cell line: 1>\u001b[0;34m()\u001b[0m\n\u001b[0;32m----> 1\u001b[0;31m \u001b[0ms\u001b[0m\u001b[0;34m[\u001b[0m\u001b[0;36m0\u001b[0m\u001b[0;34m]\u001b[0m\u001b[0;34m\u001b[0m\u001b[0;34m\u001b[0m\u001b[0m\n\u001b[0m",
            "\u001b[0;31mTypeError\u001b[0m: 'set' object is not subscriptable"
          ]
        }
      ]
    },
    {
      "cell_type": "code",
      "source": [
        "s = {\"Ram\",\"Shyam\",\"Hari\",\"Krishna\",\"Gopal\"}\n",
        "list(set(s))"
      ],
      "metadata": {
        "colab": {
          "base_uri": "https://localhost:8080/"
        },
        "id": "hO7WrYuiUA8N",
        "outputId": "39d604d7-8b37-4dce-926f-7d17fb959d29"
      },
      "execution_count": 6,
      "outputs": [
        {
          "output_type": "execute_result",
          "data": {
            "text/plain": [
              "['Hari', 'Shyam', 'Ram', 'Krishna', 'Gopal']"
            ]
          },
          "metadata": {},
          "execution_count": 6
        }
      ]
    },
    {
      "cell_type": "code",
      "source": [
        "s = set()\n",
        "s.add('Ram')\n",
        "s.add('Hari')\n",
        "s.add(\"Bishnu\")\n",
        "\n",
        "print(s)"
      ],
      "metadata": {
        "colab": {
          "base_uri": "https://localhost:8080/"
        },
        "id": "eORXVLqOUOX8",
        "outputId": "225d4fa5-26cc-44cb-f581-c2c10b3a84fd"
      },
      "execution_count": 7,
      "outputs": [
        {
          "output_type": "stream",
          "name": "stdout",
          "text": [
            "{'Hari', 'Ram', 'Bishnu'}\n"
          ]
        }
      ]
    },
    {
      "cell_type": "code",
      "source": [
        "set1 = set()\n",
        "\n",
        "set1.add(\"Apple\")\n",
        "set1.add(\"Ball\")\n",
        "set1.add(\"App\")\n",
        "set1.add(\"Ale\")\n",
        "set1.add(\"pale\")\n",
        "\n",
        "print(set1)\n"
      ],
      "metadata": {
        "colab": {
          "base_uri": "https://localhost:8080/"
        },
        "id": "K4i-nOm7Ubmc",
        "outputId": "c4a5518d-87c8-46e9-aeb3-b88388153f1b"
      },
      "execution_count": 8,
      "outputs": [
        {
          "output_type": "stream",
          "name": "stdout",
          "text": [
            "{'Apple', 'pale', 'Ball', 'Ale', 'App'}\n"
          ]
        }
      ]
    },
    {
      "cell_type": "code",
      "source": [
        "set1.remove('pale')\n",
        "set1"
      ],
      "metadata": {
        "colab": {
          "base_uri": "https://localhost:8080/"
        },
        "id": "J-ZhZLmqUyAB",
        "outputId": "7705ee8c-4bd7-4315-81f8-a23a8b9215fd"
      },
      "execution_count": 9,
      "outputs": [
        {
          "output_type": "execute_result",
          "data": {
            "text/plain": [
              "{'Ale', 'App', 'Apple', 'Ball'}"
            ]
          },
          "metadata": {},
          "execution_count": 9
        }
      ]
    },
    {
      "cell_type": "markdown",
      "source": [
        "No concatenation or multiplication is allowed in sets"
      ],
      "metadata": {
        "id": "lsEZSyPfVsxN"
      }
    },
    {
      "cell_type": "code",
      "source": [
        "set1 = {\"Even\",\"Odd\",\"Prime\",\"Composite\",\"Real\",\"Whole\",\"Integer\",\"Fraction\",\"Decimal\",\"PErcentage\",\"Imaginary\"}\n",
        "set2 = {2,5,16,1,5,65,-1,0.6,6,'i'}\n",
        "\n",
        "set1.union(set2) "
      ],
      "metadata": {
        "colab": {
          "base_uri": "https://localhost:8080/"
        },
        "id": "czxK4LrsVBAE",
        "outputId": "90dae2e4-85bc-48eb-e277-cd0f50984146"
      },
      "execution_count": 12,
      "outputs": [
        {
          "output_type": "execute_result",
          "data": {
            "text/plain": [
              "{-1,\n",
              " 0.6,\n",
              " 1,\n",
              " 16,\n",
              " 2,\n",
              " 5,\n",
              " 6,\n",
              " 65,\n",
              " 'Composite',\n",
              " 'Decimal',\n",
              " 'Even',\n",
              " 'Fraction',\n",
              " 'Imaginary',\n",
              " 'Integer',\n",
              " 'Odd',\n",
              " 'PErcentage',\n",
              " 'Prime',\n",
              " 'Real',\n",
              " 'Whole',\n",
              " 'i'}"
            ]
          },
          "metadata": {},
          "execution_count": 12
        }
      ]
    },
    {
      "cell_type": "code",
      "source": [
        "set1 = {\"Coke\",\"Momo\",\"Chowmein\",\"Egg\",\"Rice\",\"Coke\"}\n",
        "print(set1)"
      ],
      "metadata": {
        "colab": {
          "base_uri": "https://localhost:8080/"
        },
        "id": "B1K-AXkwV-N0",
        "outputId": "b32616a7-2d00-4cf5-e8b3-aeedbe9c70b1"
      },
      "execution_count": 13,
      "outputs": [
        {
          "output_type": "stream",
          "name": "stdout",
          "text": [
            "{'Egg', 'Momo', 'Chowmein', 'Coke', 'Rice'}\n"
          ]
        }
      ]
    },
    {
      "cell_type": "code",
      "source": [
        "set1 = {\"Coke\",\"Momo\",\"Chowmein\",\"Egg\",\"Rice\",\"Coke\"}\n",
        "set2 - {1,2,3,4,5,6}\n",
        "\n",
        "set1.union(set2)"
      ],
      "metadata": {
        "colab": {
          "base_uri": "https://localhost:8080/"
        },
        "id": "edrTFvnJWSgf",
        "outputId": "f88c8d40-d80e-4053-f4cd-06aa8400401f"
      },
      "execution_count": 14,
      "outputs": [
        {
          "output_type": "execute_result",
          "data": {
            "text/plain": [
              "{-1, 0.6, 1, 16, 2, 5, 6, 65, 'Chowmein', 'Coke', 'Egg', 'Momo', 'Rice', 'i'}"
            ]
          },
          "metadata": {},
          "execution_count": 14
        }
      ]
    },
    {
      "cell_type": "code",
      "source": [
        "set1 = {\"Coke\",\"Momo\",\"Chowmein\",\"Egg\",\"Rice\",\"Coke\"}\n",
        "set2 = {\"Coke\",\"Momo\",\"Chowmein\",\"Burger\",\"Chips\"}\n",
        "\n",
        "set1.union(set2) #union function retrieves all values except duplicates."
      ],
      "metadata": {
        "colab": {
          "base_uri": "https://localhost:8080/"
        },
        "id": "ZF2t3ymKWYb5",
        "outputId": "0ba7110b-323c-47e3-e799-d84d9530efe9"
      },
      "execution_count": 15,
      "outputs": [
        {
          "output_type": "execute_result",
          "data": {
            "text/plain": [
              "{'Burger', 'Chips', 'Chowmein', 'Coke', 'Egg', 'Momo', 'Rice'}"
            ]
          },
          "metadata": {},
          "execution_count": 15
        }
      ]
    },
    {
      "cell_type": "code",
      "source": [
        "set1.intersection(set2) #intersection function will only retrieve common values in the given sets"
      ],
      "metadata": {
        "colab": {
          "base_uri": "https://localhost:8080/"
        },
        "id": "E-n-uIu7Wkac",
        "outputId": "e59cc22a-d42c-4439-c3f7-11a615f2f27a"
      },
      "execution_count": 16,
      "outputs": [
        {
          "output_type": "execute_result",
          "data": {
            "text/plain": [
              "{'Chowmein', 'Coke', 'Momo'}"
            ]
          },
          "metadata": {},
          "execution_count": 16
        }
      ]
    },
    {
      "cell_type": "code",
      "source": [
        "set1 = {\"Coke\",\"Momo\",\"Chowmein\",\"Egg\",\"Rice\",\"Coke\"}\n",
        "set2 = {\"Coke\",\"Momo\",\"Chowmein\",\"Burger\",\"Chips\"}\n",
        "set3 = {\"Fanta\",\"Coke\",\"Burger\",\"Momo\"}\n",
        "\n",
        "set1.intersection(set2).intersection(set3)"
      ],
      "metadata": {
        "colab": {
          "base_uri": "https://localhost:8080/"
        },
        "id": "wNM1bUSoWoWU",
        "outputId": "3e3871f2-7ab4-4024-e3de-79cb117c5261"
      },
      "execution_count": 17,
      "outputs": [
        {
          "output_type": "execute_result",
          "data": {
            "text/plain": [
              "{'Coke', 'Momo'}"
            ]
          },
          "metadata": {},
          "execution_count": 17
        }
      ]
    },
    {
      "cell_type": "code",
      "source": [
        "set1 = {\"Momo\",\"Chowmein\",\"Coke\"}\n",
        "set2 = {\"Momo\",\"Burger\",\"Sizzler\"}\n",
        "\n",
        "set1-set2"
      ],
      "metadata": {
        "colab": {
          "base_uri": "https://localhost:8080/"
        },
        "id": "WOmYcL8mXJ_B",
        "outputId": "b52231e3-1f35-42e3-fd7d-2a6766f8f324"
      },
      "execution_count": 18,
      "outputs": [
        {
          "output_type": "execute_result",
          "data": {
            "text/plain": [
              "{'Chowmein', 'Coke'}"
            ]
          },
          "metadata": {},
          "execution_count": 18
        }
      ]
    }
  ]
}