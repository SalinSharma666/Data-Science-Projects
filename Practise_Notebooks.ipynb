{
  "nbformat": 4,
  "nbformat_minor": 0,
  "metadata": {
    "colab": {
      "provenance": [],
      "authorship_tag": "ABX9TyNSKzRj/VnfrH+J6bA5ecQu",
      "include_colab_link": true
    },
    "kernelspec": {
      "name": "python3",
      "display_name": "Python 3"
    },
    "language_info": {
      "name": "python"
    }
  },
  "cells": [
    {
      "cell_type": "markdown",
      "metadata": {
        "id": "view-in-github",
        "colab_type": "text"
      },
      "source": [
        "<a href=\"https://colab.research.google.com/github/SalinSharma666/Data-Science-Projects/blob/main/Practise_Notebooks.ipynb\" target=\"_parent\"><img src=\"https://colab.research.google.com/assets/colab-badge.svg\" alt=\"Open In Colab\"/></a>"
      ]
    },
    {
      "cell_type": "markdown",
      "source": [
        "General"
      ],
      "metadata": {
        "id": "_6z43wiCKl-T"
      }
    },
    {
      "cell_type": "code",
      "source": [
        "print(type(a))"
      ],
      "metadata": {
        "colab": {
          "base_uri": "https://localhost:8080/"
        },
        "id": "y_jA2yXGHDrq",
        "outputId": "6e33a3ce-7933-4c39-a588-b2df6d6fa512"
      },
      "execution_count": null,
      "outputs": [
        {
          "output_type": "stream",
          "name": "stdout",
          "text": [
            "<class 'int'>\n"
          ]
        }
      ]
    },
    {
      "cell_type": "code",
      "execution_count": null,
      "metadata": {
        "id": "GB20MU4jG5_H"
      },
      "outputs": [],
      "source": [
        "a = 10\n",
        "b = \"10\""
      ]
    },
    {
      "cell_type": "code",
      "source": [
        "print(type(b))"
      ],
      "metadata": {
        "colab": {
          "base_uri": "https://localhost:8080/"
        },
        "id": "XDXB7RQMHJNn",
        "outputId": "a7568742-2704-4496-af3c-c4c0ac01706d"
      },
      "execution_count": null,
      "outputs": [
        {
          "output_type": "stream",
          "name": "stdout",
          "text": [
            "<class 'str'>\n"
          ]
        }
      ]
    },
    {
      "cell_type": "code",
      "source": [
        "c = 20"
      ],
      "metadata": {
        "id": "zdN6NVQ-HPmX"
      },
      "execution_count": null,
      "outputs": []
    },
    {
      "cell_type": "code",
      "source": [
        "print(a*c)"
      ],
      "metadata": {
        "colab": {
          "base_uri": "https://localhost:8080/"
        },
        "id": "q7FfO2zkHR3q",
        "outputId": "2f96a542-7703-4968-f5a3-a090259d829f"
      },
      "execution_count": null,
      "outputs": [
        {
          "output_type": "stream",
          "name": "stdout",
          "text": [
            "200\n"
          ]
        }
      ]
    },
    {
      "cell_type": "code",
      "source": [
        "a = 5\n",
        "b = 6\n",
        "\n",
        "if a>b:\n",
        "  print(\"A is greater than B\")\n",
        "else:\n",
        "  print (\"B is greater than A\")"
      ],
      "metadata": {
        "colab": {
          "base_uri": "https://localhost:8080/"
        },
        "id": "u71Il1tSHbbA",
        "outputId": "760811e6-71f6-48bc-a7c2-ae5624474e8d"
      },
      "execution_count": null,
      "outputs": [
        {
          "output_type": "stream",
          "name": "stdout",
          "text": [
            "B is greater than A\n"
          ]
        }
      ]
    },
    {
      "cell_type": "code",
      "source": [
        "a = \"Hello\"\n",
        "b = \"World\"\n",
        "print(a+\" \" + b)"
      ],
      "metadata": {
        "colab": {
          "base_uri": "https://localhost:8080/"
        },
        "id": "RHxb8bGWHs1R",
        "outputId": "bda97002-2a95-4ddd-b963-f8c940f02293"
      },
      "execution_count": null,
      "outputs": [
        {
          "output_type": "stream",
          "name": "stdout",
          "text": [
            "Hello World\n"
          ]
        }
      ]
    },
    {
      "cell_type": "code",
      "source": [
        "a = \"Hello World\\n\"\n",
        "print(a*5)"
      ],
      "metadata": {
        "colab": {
          "base_uri": "https://localhost:8080/"
        },
        "id": "o383YWPzH7lW",
        "outputId": "d9d4f1c9-3382-4937-c400-3a4b64cabe4e"
      },
      "execution_count": null,
      "outputs": [
        {
          "output_type": "stream",
          "name": "stdout",
          "text": [
            "Hello World\n",
            "Hello World\n",
            "Hello World\n",
            "Hello World\n",
            "Hello World\n",
            "\n"
          ]
        }
      ]
    },
    {
      "cell_type": "code",
      "source": [
        "a = input(\"Enter name is \")\n",
        "print(a)"
      ],
      "metadata": {
        "colab": {
          "base_uri": "https://localhost:8080/"
        },
        "id": "wo1uzNZPIMAP",
        "outputId": "fc51a30f-472c-406a-b859-85d2e1f8383b"
      },
      "execution_count": null,
      "outputs": [
        {
          "output_type": "stream",
          "name": "stdout",
          "text": [
            "Enter name is Salin\n",
            "Salin\n"
          ]
        }
      ]
    },
    {
      "cell_type": "code",
      "source": [
        "a = input(\"Enter your name\")\n",
        "print(\"Your name is\", a)"
      ],
      "metadata": {
        "colab": {
          "base_uri": "https://localhost:8080/"
        },
        "id": "Ll0tCSE1JE0_",
        "outputId": "5e0ced6b-5bf8-4fd1-8dcd-040bb24c42cb"
      },
      "execution_count": null,
      "outputs": [
        {
          "output_type": "stream",
          "name": "stdout",
          "text": [
            "Enter your nameRam\n",
            "Your name is Ram\n"
          ]
        }
      ]
    },
    {
      "cell_type": "code",
      "source": [
        "m = int(input(\"Enter mass of the body = \"))\n",
        "v = int(input(\"Enter velocity of the body = \"))\n",
        "\n",
        "ke = 1/2*m*v**2\n",
        "\n",
        "print(\"THe kinetic energy is\", ke)"
      ],
      "metadata": {
        "colab": {
          "base_uri": "https://localhost:8080/"
        },
        "id": "hXwQIEzzJacl",
        "outputId": "8a84a3e1-5cf8-44e0-9e51-ada7034d7df5"
      },
      "execution_count": null,
      "outputs": [
        {
          "output_type": "stream",
          "name": "stdout",
          "text": [
            "Enter mass of the body = 450\n",
            "Enter velocity of the body = 50\n",
            "THe kinetic energy is 562500.0\n"
          ]
        }
      ]
    },
    {
      "cell_type": "markdown",
      "source": [
        "Conditional Statemants"
      ],
      "metadata": {
        "id": "2T-rxvuDKyqh"
      }
    },
    {
      "cell_type": "code",
      "source": [
        "a = int(input(\"Enter any number\"))\n",
        "if a%2==0:\n",
        "  print(\"The entered number is even\")\n",
        "else:\n",
        "  print (\"The entered number is odd\")"
      ],
      "metadata": {
        "colab": {
          "base_uri": "https://localhost:8080/"
        },
        "id": "EvHcJv7JK0ie",
        "outputId": "d6b64c49-13c6-4d5b-98ee-59d3e358fd4e"
      },
      "execution_count": null,
      "outputs": [
        {
          "output_type": "stream",
          "name": "stdout",
          "text": [
            "Enter any number18513865\n",
            "The entered number is odd\n"
          ]
        }
      ]
    },
    {
      "cell_type": "code",
      "source": [
        "a = int(input(\"Enter number 1 \"))\n",
        "b = int(input(\"Enter number 2 \"))\n",
        "\n",
        "if a>b:\n",
        "  print(\"1 is greater than 2\")\n",
        "elif b>a:\n",
        "  print(\"2 is greater than 1\")\n",
        "else:\n",
        "  print(\"Both are equal\")"
      ],
      "metadata": {
        "colab": {
          "base_uri": "https://localhost:8080/"
        },
        "id": "XiUXDThwKHjC",
        "outputId": "4d7102bb-7383-4f7d-df67-e1493605228f"
      },
      "execution_count": null,
      "outputs": [
        {
          "output_type": "stream",
          "name": "stdout",
          "text": [
            "Enter number 1 787878\n",
            "Enter number 2 878787\n",
            "2 is greater than 1\n"
          ]
        }
      ]
    },
    {
      "cell_type": "markdown",
      "source": [
        "Loop"
      ],
      "metadata": {
        "id": "L0g_Npi4PjJL"
      }
    },
    {
      "cell_type": "code",
      "source": [
        "for i in range(5,50,5):\n",
        "  print(i)"
      ],
      "metadata": {
        "colab": {
          "base_uri": "https://localhost:8080/"
        },
        "id": "AyYKvsR3QDkV",
        "outputId": "88fc5f9d-8e9d-4b41-88a4-613b55350556"
      },
      "execution_count": null,
      "outputs": [
        {
          "output_type": "stream",
          "name": "stdout",
          "text": [
            "5\n",
            "10\n",
            "15\n",
            "20\n",
            "25\n",
            "30\n",
            "35\n",
            "40\n",
            "45\n"
          ]
        }
      ]
    },
    {
      "cell_type": "code",
      "source": [
        "a = int(input(\"Enter a  = \"))\n",
        "for i in range(1,11):\n",
        "  print(a*i)"
      ],
      "metadata": {
        "colab": {
          "base_uri": "https://localhost:8080/"
        },
        "id": "f1JDj6BSQLBR",
        "outputId": "195f0405-d994-4524-e823-db4094284c5f"
      },
      "execution_count": null,
      "outputs": [
        {
          "output_type": "stream",
          "name": "stdout",
          "text": [
            "Enter a  = 2\n",
            "2\n",
            "4\n",
            "6\n",
            "8\n",
            "10\n",
            "12\n",
            "14\n",
            "16\n",
            "18\n",
            "20\n"
          ]
        }
      ]
    },
    {
      "cell_type": "code",
      "source": [
        "a = int(input(\"Enter a  = \"))\n",
        "for i in range(1,11):\n",
        "  print(a, \"*\" ,i, \"=\" ,a*i)"
      ],
      "metadata": {
        "colab": {
          "base_uri": "https://localhost:8080/"
        },
        "id": "uoqlRZjaQ5cO",
        "outputId": "dc9d2ce4-6d62-4df5-9c42-26edb32f6e03"
      },
      "execution_count": null,
      "outputs": [
        {
          "output_type": "stream",
          "name": "stdout",
          "text": [
            "Enter a  = 5\n",
            "5 * 1 = 5\n",
            "5 * 2 = 10\n",
            "5 * 3 = 15\n",
            "5 * 4 = 20\n",
            "5 * 5 = 25\n",
            "5 * 6 = 30\n",
            "5 * 7 = 35\n",
            "5 * 8 = 40\n",
            "5 * 9 = 45\n",
            "5 * 10 = 50\n"
          ]
        }
      ]
    },
    {
      "cell_type": "code",
      "source": [
        "x = int(input(\"Enter x = \"))\n",
        "for i in range (1,21):\n",
        "  print(x, \"*\", i, \"=\", x*i)"
      ],
      "metadata": {
        "colab": {
          "base_uri": "https://localhost:8080/"
        },
        "id": "VbVfNna2RhmV",
        "outputId": "23d90134-0377-48e4-806e-f75c78234835"
      },
      "execution_count": null,
      "outputs": [
        {
          "output_type": "stream",
          "name": "stdout",
          "text": [
            "Enter x = 2\n",
            "2 * 1 = 2\n",
            "2 * 2 = 4\n",
            "2 * 3 = 6\n",
            "2 * 4 = 8\n",
            "2 * 5 = 10\n",
            "2 * 6 = 12\n",
            "2 * 7 = 14\n",
            "2 * 8 = 16\n",
            "2 * 9 = 18\n",
            "2 * 10 = 20\n",
            "2 * 11 = 22\n",
            "2 * 12 = 24\n",
            "2 * 13 = 26\n",
            "2 * 14 = 28\n",
            "2 * 15 = 30\n",
            "2 * 16 = 32\n",
            "2 * 17 = 34\n",
            "2 * 18 = 36\n",
            "2 * 19 = 38\n",
            "2 * 20 = 40\n"
          ]
        }
      ]
    }
  ]
}