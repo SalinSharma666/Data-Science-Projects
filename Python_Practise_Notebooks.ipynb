{
  "nbformat": 4,
  "nbformat_minor": 0,
  "metadata": {
    "colab": {
      "provenance": [],
      "authorship_tag": "ABX9TyMgHBJtHQ9qwjx+mJrXXYlK",
      "include_colab_link": true
    },
    "kernelspec": {
      "name": "python3",
      "display_name": "Python 3"
    },
    "language_info": {
      "name": "python"
    }
  },
  "cells": [
    {
      "cell_type": "markdown",
      "metadata": {
        "id": "view-in-github",
        "colab_type": "text"
      },
      "source": [
        "<a href=\"https://colab.research.google.com/github/SalinSharma666/Data-Science-Projects/blob/main/Python_Practise_Notebooks.ipynb\" target=\"_parent\"><img src=\"https://colab.research.google.com/assets/colab-badge.svg\" alt=\"Open In Colab\"/></a>"
      ]
    },
    {
      "cell_type": "markdown",
      "source": [
        "General"
      ],
      "metadata": {
        "id": "_6z43wiCKl-T"
      }
    },
    {
      "cell_type": "code",
      "source": [
        "print(type(a))"
      ],
      "metadata": {
        "colab": {
          "base_uri": "https://localhost:8080/"
        },
        "id": "y_jA2yXGHDrq",
        "outputId": "6e33a3ce-7933-4c39-a588-b2df6d6fa512"
      },
      "execution_count": null,
      "outputs": [
        {
          "output_type": "stream",
          "name": "stdout",
          "text": [
            "<class 'int'>\n"
          ]
        }
      ]
    },
    {
      "cell_type": "code",
      "execution_count": null,
      "metadata": {
        "id": "GB20MU4jG5_H"
      },
      "outputs": [],
      "source": [
        "a = 10\n",
        "b = \"10\""
      ]
    },
    {
      "cell_type": "code",
      "source": [
        "print(type(b))"
      ],
      "metadata": {
        "colab": {
          "base_uri": "https://localhost:8080/"
        },
        "id": "XDXB7RQMHJNn",
        "outputId": "a7568742-2704-4496-af3c-c4c0ac01706d"
      },
      "execution_count": null,
      "outputs": [
        {
          "output_type": "stream",
          "name": "stdout",
          "text": [
            "<class 'str'>\n"
          ]
        }
      ]
    },
    {
      "cell_type": "code",
      "source": [
        "c = 20"
      ],
      "metadata": {
        "id": "zdN6NVQ-HPmX"
      },
      "execution_count": null,
      "outputs": []
    },
    {
      "cell_type": "code",
      "source": [
        "print(a*c)"
      ],
      "metadata": {
        "colab": {
          "base_uri": "https://localhost:8080/"
        },
        "id": "q7FfO2zkHR3q",
        "outputId": "2f96a542-7703-4968-f5a3-a090259d829f"
      },
      "execution_count": null,
      "outputs": [
        {
          "output_type": "stream",
          "name": "stdout",
          "text": [
            "200\n"
          ]
        }
      ]
    },
    {
      "cell_type": "code",
      "source": [
        "a = 5\n",
        "b = 6\n",
        "\n",
        "if a>b:\n",
        "  print(\"A is greater than B\")\n",
        "else:\n",
        "  print (\"B is greater than A\")"
      ],
      "metadata": {
        "colab": {
          "base_uri": "https://localhost:8080/"
        },
        "id": "u71Il1tSHbbA",
        "outputId": "760811e6-71f6-48bc-a7c2-ae5624474e8d"
      },
      "execution_count": null,
      "outputs": [
        {
          "output_type": "stream",
          "name": "stdout",
          "text": [
            "B is greater than A\n"
          ]
        }
      ]
    },
    {
      "cell_type": "code",
      "source": [
        "a = \"Hello\"\n",
        "b = \"World\"\n",
        "print(a+\" \" + b)"
      ],
      "metadata": {
        "colab": {
          "base_uri": "https://localhost:8080/"
        },
        "id": "RHxb8bGWHs1R",
        "outputId": "bda97002-2a95-4ddd-b963-f8c940f02293"
      },
      "execution_count": null,
      "outputs": [
        {
          "output_type": "stream",
          "name": "stdout",
          "text": [
            "Hello World\n"
          ]
        }
      ]
    },
    {
      "cell_type": "code",
      "source": [
        "a = \"Hello World\\n\"\n",
        "print(a*5)"
      ],
      "metadata": {
        "colab": {
          "base_uri": "https://localhost:8080/"
        },
        "id": "o383YWPzH7lW",
        "outputId": "d9d4f1c9-3382-4937-c400-3a4b64cabe4e"
      },
      "execution_count": null,
      "outputs": [
        {
          "output_type": "stream",
          "name": "stdout",
          "text": [
            "Hello World\n",
            "Hello World\n",
            "Hello World\n",
            "Hello World\n",
            "Hello World\n",
            "\n"
          ]
        }
      ]
    },
    {
      "cell_type": "code",
      "source": [
        "a = input(\"Enter name is \")\n",
        "print(a)"
      ],
      "metadata": {
        "colab": {
          "base_uri": "https://localhost:8080/"
        },
        "id": "wo1uzNZPIMAP",
        "outputId": "fc51a30f-472c-406a-b859-85d2e1f8383b"
      },
      "execution_count": null,
      "outputs": [
        {
          "output_type": "stream",
          "name": "stdout",
          "text": [
            "Enter name is Salin\n",
            "Salin\n"
          ]
        }
      ]
    },
    {
      "cell_type": "code",
      "source": [
        "a = input(\"Enter your name\")\n",
        "print(\"Your name is\", a)"
      ],
      "metadata": {
        "colab": {
          "base_uri": "https://localhost:8080/"
        },
        "id": "Ll0tCSE1JE0_",
        "outputId": "5e0ced6b-5bf8-4fd1-8dcd-040bb24c42cb"
      },
      "execution_count": null,
      "outputs": [
        {
          "output_type": "stream",
          "name": "stdout",
          "text": [
            "Enter your nameRam\n",
            "Your name is Ram\n"
          ]
        }
      ]
    },
    {
      "cell_type": "code",
      "source": [
        "m = int(input(\"Enter mass of the body = \"))\n",
        "v = int(input(\"Enter velocity of the body = \"))\n",
        "\n",
        "ke = 1/2*m*v**2\n",
        "\n",
        "print(\"THe kinetic energy is\", ke)"
      ],
      "metadata": {
        "colab": {
          "base_uri": "https://localhost:8080/"
        },
        "id": "hXwQIEzzJacl",
        "outputId": "8a84a3e1-5cf8-44e0-9e51-ada7034d7df5"
      },
      "execution_count": null,
      "outputs": [
        {
          "output_type": "stream",
          "name": "stdout",
          "text": [
            "Enter mass of the body = 450\n",
            "Enter velocity of the body = 50\n",
            "THe kinetic energy is 562500.0\n"
          ]
        }
      ]
    },
    {
      "cell_type": "markdown",
      "source": [
        "Conditional Statemants"
      ],
      "metadata": {
        "id": "2T-rxvuDKyqh"
      }
    },
    {
      "cell_type": "code",
      "source": [
        "a = int(input(\"Enter any number\"))\n",
        "if a%2==0:\n",
        "  print(\"The entered number is even\")\n",
        "else:\n",
        "  print (\"The entered number is odd\")"
      ],
      "metadata": {
        "colab": {
          "base_uri": "https://localhost:8080/"
        },
        "id": "EvHcJv7JK0ie",
        "outputId": "d6b64c49-13c6-4d5b-98ee-59d3e358fd4e"
      },
      "execution_count": null,
      "outputs": [
        {
          "output_type": "stream",
          "name": "stdout",
          "text": [
            "Enter any number18513865\n",
            "The entered number is odd\n"
          ]
        }
      ]
    },
    {
      "cell_type": "code",
      "source": [
        "a = int(input(\"Enter number 1 \"))\n",
        "b = int(input(\"Enter number 2 \"))\n",
        "\n",
        "if a>b:\n",
        "  print(\"1 is greater than 2\")\n",
        "elif b>a:\n",
        "  print(\"2 is greater than 1\")\n",
        "else:\n",
        "  print(\"Both are equal\")"
      ],
      "metadata": {
        "colab": {
          "base_uri": "https://localhost:8080/"
        },
        "id": "XiUXDThwKHjC",
        "outputId": "4d7102bb-7383-4f7d-df67-e1493605228f"
      },
      "execution_count": null,
      "outputs": [
        {
          "output_type": "stream",
          "name": "stdout",
          "text": [
            "Enter number 1 787878\n",
            "Enter number 2 878787\n",
            "2 is greater than 1\n"
          ]
        }
      ]
    },
    {
      "cell_type": "markdown",
      "source": [
        "Loop"
      ],
      "metadata": {
        "id": "L0g_Npi4PjJL"
      }
    },
    {
      "cell_type": "code",
      "source": [
        "for i in range(5,50,5):\n",
        "  print(i)"
      ],
      "metadata": {
        "colab": {
          "base_uri": "https://localhost:8080/"
        },
        "id": "AyYKvsR3QDkV",
        "outputId": "88fc5f9d-8e9d-4b41-88a4-613b55350556"
      },
      "execution_count": null,
      "outputs": [
        {
          "output_type": "stream",
          "name": "stdout",
          "text": [
            "5\n",
            "10\n",
            "15\n",
            "20\n",
            "25\n",
            "30\n",
            "35\n",
            "40\n",
            "45\n"
          ]
        }
      ]
    },
    {
      "cell_type": "code",
      "source": [
        "a = int(input(\"Enter a  = \"))\n",
        "for i in range(1,11):\n",
        "  print(a*i)"
      ],
      "metadata": {
        "colab": {
          "base_uri": "https://localhost:8080/"
        },
        "id": "f1JDj6BSQLBR",
        "outputId": "195f0405-d994-4524-e823-db4094284c5f"
      },
      "execution_count": null,
      "outputs": [
        {
          "output_type": "stream",
          "name": "stdout",
          "text": [
            "Enter a  = 2\n",
            "2\n",
            "4\n",
            "6\n",
            "8\n",
            "10\n",
            "12\n",
            "14\n",
            "16\n",
            "18\n",
            "20\n"
          ]
        }
      ]
    },
    {
      "cell_type": "code",
      "source": [
        "a = int(input(\"Enter a  = \"))\n",
        "for i in range(1,11):\n",
        "  print(a, \"*\" ,i, \"=\" ,a*i)"
      ],
      "metadata": {
        "colab": {
          "base_uri": "https://localhost:8080/"
        },
        "id": "uoqlRZjaQ5cO",
        "outputId": "dc9d2ce4-6d62-4df5-9c42-26edb32f6e03"
      },
      "execution_count": null,
      "outputs": [
        {
          "output_type": "stream",
          "name": "stdout",
          "text": [
            "Enter a  = 5\n",
            "5 * 1 = 5\n",
            "5 * 2 = 10\n",
            "5 * 3 = 15\n",
            "5 * 4 = 20\n",
            "5 * 5 = 25\n",
            "5 * 6 = 30\n",
            "5 * 7 = 35\n",
            "5 * 8 = 40\n",
            "5 * 9 = 45\n",
            "5 * 10 = 50\n"
          ]
        }
      ]
    },
    {
      "cell_type": "code",
      "source": [
        "x = int(input(\"Enter x = \"))\n",
        "for i in range (1,21):\n",
        "  print(x, \"*\", i, \"=\", x*i)"
      ],
      "metadata": {
        "colab": {
          "base_uri": "https://localhost:8080/"
        },
        "id": "VbVfNna2RhmV",
        "outputId": "23d90134-0377-48e4-806e-f75c78234835"
      },
      "execution_count": null,
      "outputs": [
        {
          "output_type": "stream",
          "name": "stdout",
          "text": [
            "Enter x = 2\n",
            "2 * 1 = 2\n",
            "2 * 2 = 4\n",
            "2 * 3 = 6\n",
            "2 * 4 = 8\n",
            "2 * 5 = 10\n",
            "2 * 6 = 12\n",
            "2 * 7 = 14\n",
            "2 * 8 = 16\n",
            "2 * 9 = 18\n",
            "2 * 10 = 20\n",
            "2 * 11 = 22\n",
            "2 * 12 = 24\n",
            "2 * 13 = 26\n",
            "2 * 14 = 28\n",
            "2 * 15 = 30\n",
            "2 * 16 = 32\n",
            "2 * 17 = 34\n",
            "2 * 18 = 36\n",
            "2 * 19 = 38\n",
            "2 * 20 = 40\n"
          ]
        }
      ]
    },
    {
      "cell_type": "code",
      "source": [
        "s = 0\n",
        "a = int(input(\"Enter a number = \"))\n",
        "for i in range(a):\n",
        "  s = s+i\n",
        "print(s)"
      ],
      "metadata": {
        "colab": {
          "base_uri": "https://localhost:8080/"
        },
        "id": "CPrxb6NPN3dW",
        "outputId": "e0cf922a-7e24-4fea-ed8c-a92c3b1df355"
      },
      "execution_count": null,
      "outputs": [
        {
          "output_type": "stream",
          "name": "stdout",
          "text": [
            "Enter a number = 5\n",
            "10\n"
          ]
        }
      ]
    },
    {
      "cell_type": "code",
      "source": [
        "a = 0\n",
        "while a<=5:\n",
        "  print(a)\n",
        "  a += 0.7"
      ],
      "metadata": {
        "colab": {
          "base_uri": "https://localhost:8080/"
        },
        "id": "WRtJo07qP9RY",
        "outputId": "095d1ebb-43ab-417b-cce4-ad09e3648ed7"
      },
      "execution_count": null,
      "outputs": [
        {
          "output_type": "stream",
          "name": "stdout",
          "text": [
            "0\n",
            "0.7\n",
            "1.4\n",
            "2.0999999999999996\n",
            "2.8\n",
            "3.5\n",
            "4.2\n",
            "4.9\n"
          ]
        }
      ]
    },
    {
      "cell_type": "code",
      "source": [
        "s = str()\n",
        "i = 0\n",
        "p = int(input(\"Enter a number = \"))\n",
        "\n",
        "while i<p:\n",
        "  name  = input(\"Enter name = \")\n",
        "  ph = int(input(\"Enter phone number = \"))\n",
        "  s = s + name + \" \" + str(ph) + \"\\n\"\n",
        "  i = i+1\n",
        "\n",
        "print(s)\n"
      ],
      "metadata": {
        "colab": {
          "base_uri": "https://localhost:8080/"
        },
        "id": "nOTs83Q7Qalh",
        "outputId": "13370da7-06b5-4351-9315-7406e6714726"
      },
      "execution_count": null,
      "outputs": [
        {
          "output_type": "stream",
          "name": "stdout",
          "text": [
            "Enter a number = 2\n",
            "Enter name = Salin\n",
            "Enter phone number = 9878987898\n",
            "Enter name = Ram\n",
            "Enter phone number = 7856214514\n",
            "Salin 9878987898\n",
            "Ram 7856214514\n",
            "\n"
          ]
        }
      ]
    },
    {
      "cell_type": "markdown",
      "source": [
        "Factorial"
      ],
      "metadata": {
        "id": "BiBvZZGcPgTc"
      }
    },
    {
      "cell_type": "code",
      "source": [
        "f = 1\n",
        "i = 1\n",
        "n = int(input(\"Enter a number = \"))\n",
        "\n",
        "while i<=n:\n",
        "  f = f*i\n",
        "  i = i+1\n",
        "\n",
        "print(f)"
      ],
      "metadata": {
        "colab": {
          "base_uri": "https://localhost:8080/"
        },
        "id": "TUru2niYPdPW",
        "outputId": "b77a34d6-320b-49e7-d968-103266f91685"
      },
      "execution_count": 2,
      "outputs": [
        {
          "output_type": "stream",
          "name": "stdout",
          "text": [
            "Enter a number = 10\n",
            "3628800\n"
          ]
        }
      ]
    },
    {
      "cell_type": "markdown",
      "source": [
        "**Control Statements**"
      ],
      "metadata": {
        "id": "PIBa4-99Qvsn"
      }
    },
    {
      "cell_type": "markdown",
      "source": [
        "Break & Continue"
      ],
      "metadata": {
        "id": "0Jd16n3DRE4F"
      }
    },
    {
      "cell_type": "code",
      "source": [
        "for i in range(20):\n",
        "  if i==9:\n",
        "    break\n",
        "  print(i)"
      ],
      "metadata": {
        "colab": {
          "base_uri": "https://localhost:8080/"
        },
        "id": "bEIXWzqGRF7S",
        "outputId": "ca010d83-f97e-418e-b76d-867996c556b9"
      },
      "execution_count": 3,
      "outputs": [
        {
          "output_type": "stream",
          "name": "stdout",
          "text": [
            "0\n",
            "1\n",
            "2\n",
            "3\n",
            "4\n",
            "5\n",
            "6\n",
            "7\n",
            "8\n"
          ]
        }
      ]
    },
    {
      "cell_type": "code",
      "source": [
        "for i in range(50):\n",
        "  if i==11:\n",
        "    continue\n",
        "  print(i)"
      ],
      "metadata": {
        "colab": {
          "base_uri": "https://localhost:8080/"
        },
        "id": "LCQ16yAJRW-o",
        "outputId": "8922574c-602e-456f-8305-5c657bc97799"
      },
      "execution_count": 4,
      "outputs": [
        {
          "output_type": "stream",
          "name": "stdout",
          "text": [
            "0\n",
            "1\n",
            "2\n",
            "3\n",
            "4\n",
            "5\n",
            "6\n",
            "7\n",
            "8\n",
            "9\n",
            "10\n",
            "12\n",
            "13\n",
            "14\n",
            "15\n",
            "16\n",
            "17\n",
            "18\n",
            "19\n",
            "20\n",
            "21\n",
            "22\n",
            "23\n",
            "24\n",
            "25\n",
            "26\n",
            "27\n",
            "28\n",
            "29\n",
            "30\n",
            "31\n",
            "32\n",
            "33\n",
            "34\n",
            "35\n",
            "36\n",
            "37\n",
            "38\n",
            "39\n",
            "40\n",
            "41\n",
            "42\n",
            "43\n",
            "44\n",
            "45\n",
            "46\n",
            "47\n",
            "48\n",
            "49\n"
          ]
        }
      ]
    },
    {
      "cell_type": "markdown",
      "source": [
        "STRING"
      ],
      "metadata": {
        "id": "EqoGUCZBR2ZB"
      }
    },
    {
      "cell_type": "code",
      "source": [
        "x = \"Hello\"\n",
        "y = \" World\"\n",
        "z = \", I am Python.\"\n",
        "aa = x+y+z #concatenation\n",
        "\n",
        "print(aa)"
      ],
      "metadata": {
        "colab": {
          "base_uri": "https://localhost:8080/"
        },
        "id": "39YLRkyPQ5hz",
        "outputId": "c5523d33-b460-4af7-ffac-c5e3b61a583d"
      },
      "execution_count": 8,
      "outputs": [
        {
          "output_type": "stream",
          "name": "stdout",
          "text": [
            "Hello World, I am Python.\n"
          ]
        }
      ]
    },
    {
      "cell_type": "code",
      "source": [
        "a = \"The world is beautiful\"\n",
        "\n",
        "print(a[0])\n",
        "print(a[0:3])\n",
        "print(a[1:10:3])"
      ],
      "metadata": {
        "colab": {
          "base_uri": "https://localhost:8080/"
        },
        "id": "moR4MOCmP_VR",
        "outputId": "834dd9df-25e7-4bd8-ff86-443e7ea72055"
      },
      "execution_count": 9,
      "outputs": [
        {
          "output_type": "stream",
          "name": "stdout",
          "text": [
            "T\n",
            "The\n",
            "hwl\n"
          ]
        }
      ]
    },
    {
      "cell_type": "code",
      "source": [
        "print(a[::-1])"
      ],
      "metadata": {
        "colab": {
          "base_uri": "https://localhost:8080/"
        },
        "id": "YUJ33KcoS2Rb",
        "outputId": "d6f9b7c3-d515-4384-b89a-6514d89981d1"
      },
      "execution_count": 10,
      "outputs": [
        {
          "output_type": "stream",
          "name": "stdout",
          "text": [
            "lufituaeb si dlrow ehT\n"
          ]
        }
      ]
    },
    {
      "cell_type": "code",
      "source": [
        "string1 = input(\"Enter a word = \").lower()\n",
        "\n",
        "if string1 == string1[::-1]:\n",
        "  print(\"The given word is a palindrome\")\n",
        "\n",
        "else:\n",
        "  print(\"The given word is not a palindrome\")"
      ],
      "metadata": {
        "colab": {
          "base_uri": "https://localhost:8080/"
        },
        "id": "q0BlM76UTGd_",
        "outputId": "9da44f87-3414-4457-a285-c1bb27e8fbac"
      },
      "execution_count": 20,
      "outputs": [
        {
          "output_type": "stream",
          "name": "stdout",
          "text": [
            "Enter a word = Radar\n",
            "The given word is a palindrome\n"
          ]
        }
      ]
    },
    {
      "cell_type": "markdown",
      "source": [
        "String formatting"
      ],
      "metadata": {
        "id": "sjBMcTsuUC_a"
      }
    },
    {
      "cell_type": "code",
      "source": [
        "name = input(\"Enter your name = \")\n",
        "ph = input(\"Enter your phone number = \")\n",
        "\n",
        "print(f\"Your name is {name}. Your phone number is {ph}.\")"
      ],
      "metadata": {
        "colab": {
          "base_uri": "https://localhost:8080/"
        },
        "id": "tu3y0eicUE8a",
        "outputId": "0599f854-b331-4080-a26f-0d0d5f9b6a76"
      },
      "execution_count": 19,
      "outputs": [
        {
          "output_type": "stream",
          "name": "stdout",
          "text": [
            "Enter your name = Salin\n",
            "Enter your phone number = 98018181818\n",
            "Your name is Salin. Your phone number is 98018181818\n"
          ]
        }
      ]
    },
    {
      "cell_type": "code",
      "source": [
        "a = \"Pneumonoultramicroscopicsilicovolacnoconiosis\"\n",
        "print(len(a))"
      ],
      "metadata": {
        "colab": {
          "base_uri": "https://localhost:8080/"
        },
        "id": "OwNiQ_RgUi_1",
        "outputId": "70350587-4e14-4d5b-9919-f28ccbbdeb9b"
      },
      "execution_count": 24,
      "outputs": [
        {
          "output_type": "stream",
          "name": "stdout",
          "text": [
            "45\n"
          ]
        }
      ]
    },
    {
      "cell_type": "code",
      "source": [
        "a = \"Ram, Shyam, Ram, Shyam, Hari\"\n",
        "print(a.count(\"Ram\"))"
      ],
      "metadata": {
        "colab": {
          "base_uri": "https://localhost:8080/"
        },
        "id": "2sXxTnPWVMWf",
        "outputId": "d1311d41-e9fb-4192-b6ca-8876d308e640"
      },
      "execution_count": 25,
      "outputs": [
        {
          "output_type": "stream",
          "name": "stdout",
          "text": [
            "2\n"
          ]
        }
      ]
    },
    {
      "cell_type": "code",
      "source": [
        "#replace\n",
        "a = \"Ram, Shyam, Ram, Shyam, Hari, Gita\"\n",
        "a.replace(\"Gita\",\"Sita\")"
      ],
      "metadata": {
        "colab": {
          "base_uri": "https://localhost:8080/",
          "height": 35
        },
        "id": "bV2X-nGSVfxO",
        "outputId": "8c73db65-fdd8-430b-f4a1-c9110c1a807f"
      },
      "execution_count": 26,
      "outputs": [
        {
          "output_type": "execute_result",
          "data": {
            "text/plain": [
              "'Ram, Shyam, Ram, Shyam, Hari, Sita'"
            ],
            "application/vnd.google.colaboratory.intrinsic+json": {
              "type": "string"
            }
          },
          "metadata": {},
          "execution_count": 26
        }
      ]
    },
    {
      "cell_type": "code",
      "source": [
        "a = \"Ram Shyam Hari Sita Rita Ram\"\n",
        "a[0:-3] #Slicing\n",
        "\n",
        "#The expression a[0:-3] is used to slice the string a from the first character (index 0) up to the third character from the end (index -3). \n",
        "#In this case, the string a is \"Ram Shyam Hari Sita Rita Ram\", so a[0:-3] would return \"Ram Shyam Hari Sita Rita\"."
      ],
      "metadata": {
        "colab": {
          "base_uri": "https://localhost:8080/",
          "height": 35
        },
        "id": "Wth2fZH7WNZk",
        "outputId": "5e6c859d-8c23-46e3-8dea-2e9e47e2a871"
      },
      "execution_count": 27,
      "outputs": [
        {
          "output_type": "execute_result",
          "data": {
            "text/plain": [
              "'Ram Shyam Hari Sita Rita '"
            ],
            "application/vnd.google.colaboratory.intrinsic+json": {
              "type": "string"
            }
          },
          "metadata": {},
          "execution_count": 27
        }
      ]
    },
    {
      "cell_type": "code",
      "source": [
        "a  = \"App Cat Ball Dog God\"\n",
        "a = a.replace(input(\"Enter the word you wish to replace = \"),\" \")\n",
        "print(a)"
      ],
      "metadata": {
        "colab": {
          "base_uri": "https://localhost:8080/"
        },
        "id": "ZGQQ4z5iYCix",
        "outputId": "cd4dc98a-74ef-41a7-fc3d-f6006649bb8b"
      },
      "execution_count": 30,
      "outputs": [
        {
          "output_type": "stream",
          "name": "stdout",
          "text": [
            "Enter the word you wish to replace = Cat\n",
            "App   Ball Dog God\n"
          ]
        }
      ]
    },
    {
      "cell_type": "code",
      "source": [
        "a = input(\"Enter a word = \").lower()\n",
        "print(a)"
      ],
      "metadata": {
        "colab": {
          "base_uri": "https://localhost:8080/"
        },
        "id": "FiqMtKgCY15P",
        "outputId": "cc90f9cd-42c4-4b8f-d0da-01e67da5a810"
      },
      "execution_count": 31,
      "outputs": [
        {
          "output_type": "stream",
          "name": "stdout",
          "text": [
            "Enter a word = ASDFGHJKL\n",
            "asdfghjkl\n"
          ]
        }
      ]
    },
    {
      "cell_type": "code",
      "source": [
        "a = \"Python\"\n",
        "print(a[0:-2]) #Both these codes do the same thing\n",
        "print(a[:-2])"
      ],
      "metadata": {
        "colab": {
          "base_uri": "https://localhost:8080/"
        },
        "id": "XkkY8p70Z_-q",
        "outputId": "a6085da6-1c7a-4213-c2d7-0dc34ffc025f"
      },
      "execution_count": 34,
      "outputs": [
        {
          "output_type": "stream",
          "name": "stdout",
          "text": [
            "Pyth\n",
            "Pyth\n"
          ]
        }
      ]
    },
    {
      "cell_type": "code",
      "source": [
        "a = \"Python\"\n",
        "print(a[-2])"
      ],
      "metadata": {
        "colab": {
          "base_uri": "https://localhost:8080/"
        },
        "id": "hwPiL32Xaol-",
        "outputId": "649968e7-4e30-471b-b825-86fd6325cdb6"
      },
      "execution_count": 35,
      "outputs": [
        {
          "output_type": "stream",
          "name": "stdout",
          "text": [
            "o\n"
          ]
        }
      ]
    }
  ]
}