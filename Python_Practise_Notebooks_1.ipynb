{
  "nbformat": 4,
  "nbformat_minor": 0,
  "metadata": {
    "colab": {
      "provenance": [],
      "authorship_tag": "ABX9TyMix9uH2EDuRSSu65zc+1Pn",
      "include_colab_link": true
    },
    "kernelspec": {
      "name": "python3",
      "display_name": "Python 3"
    },
    "language_info": {
      "name": "python"
    }
  },
  "cells": [
    {
      "cell_type": "markdown",
      "metadata": {
        "id": "view-in-github",
        "colab_type": "text"
      },
      "source": [
        "<a href=\"https://colab.research.google.com/github/SalinSharma666/Data-Science-Projects/blob/main/Python_Practise_Notebooks_1.ipynb\" target=\"_parent\"><img src=\"https://colab.research.google.com/assets/colab-badge.svg\" alt=\"Open In Colab\"/></a>"
      ]
    },
    {
      "cell_type": "markdown",
      "source": [
        "General"
      ],
      "metadata": {
        "id": "_6z43wiCKl-T"
      }
    },
    {
      "cell_type": "code",
      "source": [
        "a = 10\n",
        "print(type(a))\n"
      ],
      "metadata": {
        "colab": {
          "base_uri": "https://localhost:8080/"
        },
        "id": "y_jA2yXGHDrq",
        "outputId": "2f298a6c-8a35-4eb8-fca1-e8b570acddb0"
      },
      "execution_count": 13,
      "outputs": [
        {
          "output_type": "stream",
          "name": "stdout",
          "text": [
            "<class 'str'>\n"
          ]
        }
      ]
    },
    {
      "cell_type": "code",
      "execution_count": 14,
      "metadata": {
        "id": "GB20MU4jG5_H"
      },
      "outputs": [],
      "source": [
        "a = 10\n",
        "b = \"10\""
      ]
    },
    {
      "cell_type": "code",
      "source": [
        "print(type(b))"
      ],
      "metadata": {
        "colab": {
          "base_uri": "https://localhost:8080/"
        },
        "id": "XDXB7RQMHJNn",
        "outputId": "85f0c779-7402-4ac7-b68b-545284ba52c4"
      },
      "execution_count": 15,
      "outputs": [
        {
          "output_type": "stream",
          "name": "stdout",
          "text": [
            "<class 'str'>\n"
          ]
        }
      ]
    },
    {
      "cell_type": "code",
      "source": [
        "c = 20"
      ],
      "metadata": {
        "id": "zdN6NVQ-HPmX"
      },
      "execution_count": 16,
      "outputs": []
    },
    {
      "cell_type": "code",
      "source": [
        "print(a*c)"
      ],
      "metadata": {
        "colab": {
          "base_uri": "https://localhost:8080/"
        },
        "id": "q7FfO2zkHR3q",
        "outputId": "75d5e500-e933-4d4d-ea83-463261030a1d"
      },
      "execution_count": 17,
      "outputs": [
        {
          "output_type": "stream",
          "name": "stdout",
          "text": [
            "200\n"
          ]
        }
      ]
    },
    {
      "cell_type": "code",
      "source": [
        "a = 5\n",
        "b = 6\n",
        "\n",
        "if a>b:\n",
        "  print(\"A is greater than B\")\n",
        "else:\n",
        "  print (\"B is greater than A\")"
      ],
      "metadata": {
        "colab": {
          "base_uri": "https://localhost:8080/"
        },
        "id": "u71Il1tSHbbA",
        "outputId": "4aff1dc6-fe81-460a-dd7f-0c4fd892fef3"
      },
      "execution_count": 18,
      "outputs": [
        {
          "output_type": "stream",
          "name": "stdout",
          "text": [
            "B is greater than A\n"
          ]
        }
      ]
    },
    {
      "cell_type": "code",
      "source": [
        "a = \"Hello\"\n",
        "b = \"World\"\n",
        "print(a+\" \" + b)"
      ],
      "metadata": {
        "colab": {
          "base_uri": "https://localhost:8080/"
        },
        "id": "RHxb8bGWHs1R",
        "outputId": "44f0d85c-7e0f-4496-8050-3b233dc946b2"
      },
      "execution_count": 30,
      "outputs": [
        {
          "output_type": "stream",
          "name": "stdout",
          "text": [
            "Hello World\n"
          ]
        }
      ]
    },
    {
      "cell_type": "code",
      "source": [
        "a = \"Hello World\\n\"\n",
        "print(a*5)"
      ],
      "metadata": {
        "colab": {
          "base_uri": "https://localhost:8080/"
        },
        "id": "o383YWPzH7lW",
        "outputId": "24bc9b13-e235-430c-b99f-b2942b0ef1a2"
      },
      "execution_count": 31,
      "outputs": [
        {
          "output_type": "stream",
          "name": "stdout",
          "text": [
            "Hello World\n",
            "Hello World\n",
            "Hello World\n",
            "Hello World\n",
            "Hello World\n",
            "\n"
          ]
        }
      ]
    },
    {
      "cell_type": "code",
      "source": [
        "a = input(\"Enter name is \")\n",
        "print(a)"
      ],
      "metadata": {
        "colab": {
          "base_uri": "https://localhost:8080/"
        },
        "id": "wo1uzNZPIMAP",
        "outputId": "f8f33b41-25e5-4bee-cf7c-ff7946b0196c"
      },
      "execution_count": 32,
      "outputs": [
        {
          "output_type": "stream",
          "name": "stdout",
          "text": [
            "Enter name is Ram\n",
            "Ram\n"
          ]
        }
      ]
    },
    {
      "cell_type": "code",
      "source": [
        "a = input(\"Enter your name\")\n",
        "print(\"Your name is\", a)"
      ],
      "metadata": {
        "colab": {
          "base_uri": "https://localhost:8080/"
        },
        "id": "Ll0tCSE1JE0_",
        "outputId": "5be1c013-fdc0-4494-b8d4-09dd54eee376"
      },
      "execution_count": 33,
      "outputs": [
        {
          "output_type": "stream",
          "name": "stdout",
          "text": [
            "Enter your nameRam\n",
            "Your name is Ram\n"
          ]
        }
      ]
    },
    {
      "cell_type": "code",
      "source": [
        "m = int(input(\"Enter mass of the body = \"))\n",
        "v = int(input(\"Enter velocity of the body = \"))\n",
        "\n",
        "ke = 1/2*m*v**2\n",
        "\n",
        "print(\"THe kinetic energy is\", ke)"
      ],
      "metadata": {
        "colab": {
          "base_uri": "https://localhost:8080/"
        },
        "id": "hXwQIEzzJacl",
        "outputId": "99ad290b-2f24-4c8a-f4a4-eadf56339bc1"
      },
      "execution_count": 34,
      "outputs": [
        {
          "output_type": "stream",
          "name": "stdout",
          "text": [
            "Enter mass of the body = 20\n",
            "Enter velocity of the body = 50\n",
            "THe kinetic energy is 25000.0\n"
          ]
        }
      ]
    },
    {
      "cell_type": "markdown",
      "source": [
        "Conditional Statemants"
      ],
      "metadata": {
        "id": "2T-rxvuDKyqh"
      }
    },
    {
      "cell_type": "code",
      "source": [
        "a = int(input(\"Enter any number\"))\n",
        "if a%2==0:\n",
        "  print(\"The entered number is even\")\n",
        "else:\n",
        "  print (\"The entered number is odd\")"
      ],
      "metadata": {
        "colab": {
          "base_uri": "https://localhost:8080/"
        },
        "id": "EvHcJv7JK0ie",
        "outputId": "f80451b1-8475-44a8-a6b2-3f2e5ee9a167"
      },
      "execution_count": 35,
      "outputs": [
        {
          "output_type": "stream",
          "name": "stdout",
          "text": [
            "Enter any number465132\n",
            "The entered number is even\n"
          ]
        }
      ]
    },
    {
      "cell_type": "code",
      "source": [
        "a = int(input(\"Enter number 1 \"))\n",
        "b = int(input(\"Enter number 2 \"))\n",
        "\n",
        "if a>b:\n",
        "  print(\"1 is greater than 2\")\n",
        "elif b>a:\n",
        "  print(\"2 is greater than 1\")\n",
        "else:\n",
        "  print(\"Both are equal\")"
      ],
      "metadata": {
        "colab": {
          "base_uri": "https://localhost:8080/"
        },
        "id": "XiUXDThwKHjC",
        "outputId": "4b5b0ae5-84bc-49a8-beb4-615c9018864f"
      },
      "execution_count": 36,
      "outputs": [
        {
          "output_type": "stream",
          "name": "stdout",
          "text": [
            "Enter number 1 84651\n",
            "Enter number 2 75421\n",
            "1 is greater than 2\n"
          ]
        }
      ]
    },
    {
      "cell_type": "markdown",
      "source": [
        "Loop"
      ],
      "metadata": {
        "id": "L0g_Npi4PjJL"
      }
    },
    {
      "cell_type": "code",
      "source": [
        "for i in range(5,50,5):\n",
        "  print(i)"
      ],
      "metadata": {
        "colab": {
          "base_uri": "https://localhost:8080/"
        },
        "id": "AyYKvsR3QDkV",
        "outputId": "cd5c3f56-4f70-475a-c4fa-32c65b6719dd"
      },
      "execution_count": 38,
      "outputs": [
        {
          "output_type": "stream",
          "name": "stdout",
          "text": [
            "5\n",
            "10\n",
            "15\n",
            "20\n",
            "25\n",
            "30\n",
            "35\n",
            "40\n",
            "45\n"
          ]
        }
      ]
    },
    {
      "cell_type": "code",
      "source": [
        "a = int(input(\"Enter a  = \"))\n",
        "for i in range(1,11):\n",
        "  print(a*i)"
      ],
      "metadata": {
        "colab": {
          "base_uri": "https://localhost:8080/"
        },
        "id": "f1JDj6BSQLBR",
        "outputId": "03e2377a-b41d-4894-c3fa-42e86bf645fd"
      },
      "execution_count": 39,
      "outputs": [
        {
          "output_type": "stream",
          "name": "stdout",
          "text": [
            "Enter a  = 4\n",
            "4\n",
            "8\n",
            "12\n",
            "16\n",
            "20\n",
            "24\n",
            "28\n",
            "32\n",
            "36\n",
            "40\n"
          ]
        }
      ]
    },
    {
      "cell_type": "code",
      "source": [
        "a = int(input(\"Enter a  = \"))\n",
        "for i in range(1,11):\n",
        "  print(a, \"*\" ,i, \"=\" ,a*i)"
      ],
      "metadata": {
        "colab": {
          "base_uri": "https://localhost:8080/"
        },
        "id": "uoqlRZjaQ5cO",
        "outputId": "cdeb7f26-a502-4308-e654-5741fc884921"
      },
      "execution_count": 40,
      "outputs": [
        {
          "output_type": "stream",
          "name": "stdout",
          "text": [
            "Enter a  = 4\n",
            "4 * 1 = 4\n",
            "4 * 2 = 8\n",
            "4 * 3 = 12\n",
            "4 * 4 = 16\n",
            "4 * 5 = 20\n",
            "4 * 6 = 24\n",
            "4 * 7 = 28\n",
            "4 * 8 = 32\n",
            "4 * 9 = 36\n",
            "4 * 10 = 40\n"
          ]
        }
      ]
    },
    {
      "cell_type": "code",
      "source": [
        "x = int(input(\"Enter x = \"))\n",
        "for i in range (1,21):\n",
        "  print(x, \"*\", i, \"=\", x*i)"
      ],
      "metadata": {
        "colab": {
          "base_uri": "https://localhost:8080/"
        },
        "id": "VbVfNna2RhmV",
        "outputId": "4824dc1f-c7b9-43a4-b3b0-e8bed23408f7"
      },
      "execution_count": 29,
      "outputs": [
        {
          "output_type": "stream",
          "name": "stdout",
          "text": [
            "Enter x = 3\n",
            "3 * 1 = 3\n",
            "3 * 2 = 6\n",
            "3 * 3 = 9\n",
            "3 * 4 = 12\n",
            "3 * 5 = 15\n",
            "3 * 6 = 18\n",
            "3 * 7 = 21\n",
            "3 * 8 = 24\n",
            "3 * 9 = 27\n",
            "3 * 10 = 30\n",
            "3 * 11 = 33\n",
            "3 * 12 = 36\n",
            "3 * 13 = 39\n",
            "3 * 14 = 42\n",
            "3 * 15 = 45\n",
            "3 * 16 = 48\n",
            "3 * 17 = 51\n",
            "3 * 18 = 54\n",
            "3 * 19 = 57\n",
            "3 * 20 = 60\n"
          ]
        }
      ]
    },
    {
      "cell_type": "code",
      "source": [
        "s = 0\n",
        "a = int(input(\"Enter a number = \"))\n",
        "for i in range(a):\n",
        "  s = s+i\n",
        "print(s)"
      ],
      "metadata": {
        "colab": {
          "base_uri": "https://localhost:8080/"
        },
        "id": "CPrxb6NPN3dW",
        "outputId": "fcb5d2c5-416a-4781-f455-f246ff220165"
      },
      "execution_count": 28,
      "outputs": [
        {
          "output_type": "stream",
          "name": "stdout",
          "text": [
            "Enter a number = 1\n",
            "0\n"
          ]
        }
      ]
    },
    {
      "cell_type": "code",
      "source": [
        "a = 0\n",
        "while a<=5:\n",
        "  print(a)\n",
        "  a += 0.7"
      ],
      "metadata": {
        "colab": {
          "base_uri": "https://localhost:8080/"
        },
        "id": "WRtJo07qP9RY",
        "outputId": "44265bbe-1664-46b4-b31c-69c714d678e2"
      },
      "execution_count": 27,
      "outputs": [
        {
          "output_type": "stream",
          "name": "stdout",
          "text": [
            "0\n",
            "0.7\n",
            "1.4\n",
            "2.0999999999999996\n",
            "2.8\n",
            "3.5\n",
            "4.2\n",
            "4.9\n"
          ]
        }
      ]
    },
    {
      "cell_type": "code",
      "source": [
        "s = str()\n",
        "i = 0\n",
        "p = int(input(\"Enter a number = \"))\n",
        "\n",
        "while i<p:\n",
        "  name  = input(\"Enter name = \")\n",
        "  ph = int(input(\"Enter phone number = \"))\n",
        "  s = s + name + \" \" + str(ph) + \"\\n\"\n",
        "  i = i+1\n",
        "\n",
        "print(s)\n"
      ],
      "metadata": {
        "colab": {
          "base_uri": "https://localhost:8080/"
        },
        "id": "nOTs83Q7Qalh",
        "outputId": "3180bb2b-c82e-4d56-dbff-afde463cdc81"
      },
      "execution_count": 26,
      "outputs": [
        {
          "output_type": "stream",
          "name": "stdout",
          "text": [
            "Enter a number = 1\n",
            "Enter name = Salin\n",
            "Enter phone number = 9801818196\n",
            "Salin 9801818196\n",
            "\n"
          ]
        }
      ]
    },
    {
      "cell_type": "markdown",
      "source": [
        "Factorial"
      ],
      "metadata": {
        "id": "BiBvZZGcPgTc"
      }
    },
    {
      "cell_type": "code",
      "source": [
        "f = 1\n",
        "i = 1\n",
        "n = int(input(\"Enter a number = \"))\n",
        "\n",
        "while i<=n:\n",
        "  f = f*i\n",
        "  i = i+1\n",
        "\n",
        "print(f)"
      ],
      "metadata": {
        "colab": {
          "base_uri": "https://localhost:8080/"
        },
        "id": "TUru2niYPdPW",
        "outputId": "1d05a608-150e-4911-9e3e-2000a0bc2319"
      },
      "execution_count": 24,
      "outputs": [
        {
          "output_type": "stream",
          "name": "stdout",
          "text": [
            "Enter a number = 5\n",
            "120\n"
          ]
        }
      ]
    },
    {
      "cell_type": "markdown",
      "source": [
        "**Control Statements**"
      ],
      "metadata": {
        "id": "PIBa4-99Qvsn"
      }
    },
    {
      "cell_type": "markdown",
      "source": [
        "Break & Continue"
      ],
      "metadata": {
        "id": "0Jd16n3DRE4F"
      }
    },
    {
      "cell_type": "code",
      "source": [
        "for i in range(20):\n",
        "  if i==9:\n",
        "    break\n",
        "  print(i)"
      ],
      "metadata": {
        "colab": {
          "base_uri": "https://localhost:8080/"
        },
        "id": "bEIXWzqGRF7S",
        "outputId": "b5eebc0a-a99d-49e4-884d-a0022cd35a23"
      },
      "execution_count": 23,
      "outputs": [
        {
          "output_type": "stream",
          "name": "stdout",
          "text": [
            "0\n",
            "1\n",
            "2\n",
            "3\n",
            "4\n",
            "5\n",
            "6\n",
            "7\n",
            "8\n"
          ]
        }
      ]
    },
    {
      "cell_type": "code",
      "source": [
        "for i in range(50):\n",
        "  if i==11:\n",
        "    continue\n",
        "  print(i)"
      ],
      "metadata": {
        "colab": {
          "base_uri": "https://localhost:8080/"
        },
        "id": "LCQ16yAJRW-o",
        "outputId": "fd0d9f94-e576-4eac-8c50-718c6952234b"
      },
      "execution_count": 22,
      "outputs": [
        {
          "output_type": "stream",
          "name": "stdout",
          "text": [
            "0\n",
            "1\n",
            "2\n",
            "3\n",
            "4\n",
            "5\n",
            "6\n",
            "7\n",
            "8\n",
            "9\n",
            "10\n",
            "12\n",
            "13\n",
            "14\n",
            "15\n",
            "16\n",
            "17\n",
            "18\n",
            "19\n",
            "20\n",
            "21\n",
            "22\n",
            "23\n",
            "24\n",
            "25\n",
            "26\n",
            "27\n",
            "28\n",
            "29\n",
            "30\n",
            "31\n",
            "32\n",
            "33\n",
            "34\n",
            "35\n",
            "36\n",
            "37\n",
            "38\n",
            "39\n",
            "40\n",
            "41\n",
            "42\n",
            "43\n",
            "44\n",
            "45\n",
            "46\n",
            "47\n",
            "48\n",
            "49\n"
          ]
        }
      ]
    },
    {
      "cell_type": "markdown",
      "source": [
        "STRING"
      ],
      "metadata": {
        "id": "EqoGUCZBR2ZB"
      }
    },
    {
      "cell_type": "code",
      "source": [
        "x = \"Hello\"\n",
        "y = \" World\"\n",
        "z = \", I am Python.\"\n",
        "aa = x+y+z #concatenation\n",
        "\n",
        "print(aa)"
      ],
      "metadata": {
        "colab": {
          "base_uri": "https://localhost:8080/"
        },
        "id": "39YLRkyPQ5hz",
        "outputId": "15ea68d4-4c57-4353-9512-98a49ca90420"
      },
      "execution_count": 21,
      "outputs": [
        {
          "output_type": "stream",
          "name": "stdout",
          "text": [
            "Hello World, I am Python.\n"
          ]
        }
      ]
    },
    {
      "cell_type": "code",
      "source": [
        "a = \"The world is beautiful\"\n",
        "\n",
        "print(a[0])\n",
        "print(a[0:3])\n",
        "print(a[1:10:3])"
      ],
      "metadata": {
        "colab": {
          "base_uri": "https://localhost:8080/"
        },
        "id": "moR4MOCmP_VR",
        "outputId": "01c17abe-3712-4d93-cec4-d4f5f073a7f9"
      },
      "execution_count": 19,
      "outputs": [
        {
          "output_type": "stream",
          "name": "stdout",
          "text": [
            "T\n",
            "The\n",
            "hwl\n"
          ]
        }
      ]
    },
    {
      "cell_type": "code",
      "source": [
        "print(a[::-1])"
      ],
      "metadata": {
        "colab": {
          "base_uri": "https://localhost:8080/"
        },
        "id": "YUJ33KcoS2Rb",
        "outputId": "1c6ad4d5-b703-4bde-a7a9-a7e5672b605b"
      },
      "execution_count": 20,
      "outputs": [
        {
          "output_type": "stream",
          "name": "stdout",
          "text": [
            "lufituaeb si dlrow ehT\n"
          ]
        }
      ]
    },
    {
      "cell_type": "code",
      "source": [
        "string1 = input(\"Enter a word = \").lower()\n",
        "\n",
        "if string1 == string1[::-1]:\n",
        "  print(\"The given word is a palindrome\")\n",
        "\n",
        "else:\n",
        "  print(\"The given word is not a palindrome\")"
      ],
      "metadata": {
        "colab": {
          "base_uri": "https://localhost:8080/"
        },
        "id": "q0BlM76UTGd_",
        "outputId": "d184a074-093b-4c3a-8fbb-22655b83b38e"
      },
      "execution_count": 12,
      "outputs": [
        {
          "output_type": "stream",
          "name": "stdout",
          "text": [
            "Enter a word = dad\n",
            "The given word is a palindrome\n"
          ]
        }
      ]
    },
    {
      "cell_type": "markdown",
      "source": [
        "String formatting"
      ],
      "metadata": {
        "id": "sjBMcTsuUC_a"
      }
    },
    {
      "cell_type": "code",
      "source": [
        "name = input(\"Enter your name = \")\n",
        "ph = input(\"Enter your phone number = \")\n",
        "\n",
        "print(f\"Your name is {name}. Your phone number is {ph}.\")"
      ],
      "metadata": {
        "colab": {
          "base_uri": "https://localhost:8080/"
        },
        "id": "tu3y0eicUE8a",
        "outputId": "8fdffdb6-3d7b-4e9f-a5c9-fc113d9dcb86"
      },
      "execution_count": 11,
      "outputs": [
        {
          "output_type": "stream",
          "name": "stdout",
          "text": [
            "Enter your name = Salin\n",
            "Enter your phone number = 9801818196\n",
            "Your name is Salin. Your phone number is 9801818196.\n"
          ]
        }
      ]
    },
    {
      "cell_type": "code",
      "source": [
        "a = \"Pneumonoultramicroscopicsilicovolacnoconiosis\"\n",
        "print(len(a))"
      ],
      "metadata": {
        "colab": {
          "base_uri": "https://localhost:8080/"
        },
        "id": "OwNiQ_RgUi_1",
        "outputId": "3b5db1d0-a547-41ad-f8d9-1c953c08c1ea"
      },
      "execution_count": 10,
      "outputs": [
        {
          "output_type": "stream",
          "name": "stdout",
          "text": [
            "45\n"
          ]
        }
      ]
    },
    {
      "cell_type": "code",
      "source": [
        "a = \"Ram, Shyam, Ram, Shyam, Hari\"\n",
        "print(a.count(\"Ram\"))"
      ],
      "metadata": {
        "colab": {
          "base_uri": "https://localhost:8080/"
        },
        "id": "2sXxTnPWVMWf",
        "outputId": "62898a3e-591a-4b73-a36b-03fd0eb3a4e4"
      },
      "execution_count": 9,
      "outputs": [
        {
          "output_type": "stream",
          "name": "stdout",
          "text": [
            "2\n"
          ]
        }
      ]
    },
    {
      "cell_type": "code",
      "source": [
        "#replace\n",
        "a = \"Ram, Shyam, Ram, Shyam, Hari, Gita\"\n",
        "a.replace(\"Gita\",\"Sita\")"
      ],
      "metadata": {
        "colab": {
          "base_uri": "https://localhost:8080/",
          "height": 35
        },
        "id": "bV2X-nGSVfxO",
        "outputId": "813e0eee-3b89-402f-f58e-bf17f195ca04"
      },
      "execution_count": 8,
      "outputs": [
        {
          "output_type": "execute_result",
          "data": {
            "text/plain": [
              "'Ram, Shyam, Ram, Shyam, Hari, Sita'"
            ],
            "application/vnd.google.colaboratory.intrinsic+json": {
              "type": "string"
            }
          },
          "metadata": {},
          "execution_count": 8
        }
      ]
    },
    {
      "cell_type": "code",
      "source": [
        "a = \"Ram Shyam Hari Sita Rita Ram\"\n",
        "a[0:-3] #Slicing\n",
        "\n",
        "#The expression a[0:-3] is used to slice the string a from the first character (index 0) up to the third character from the end (index -3). \n",
        "#In this case, the string a is \"Ram Shyam Hari Sita Rita Ram\", so a[0:-3] would return \"Ram Shyam Hari Sita Rita\"."
      ],
      "metadata": {
        "colab": {
          "base_uri": "https://localhost:8080/",
          "height": 35
        },
        "id": "Wth2fZH7WNZk",
        "outputId": "92ef2d84-d500-438a-add8-a0d3aadee47d"
      },
      "execution_count": 7,
      "outputs": [
        {
          "output_type": "execute_result",
          "data": {
            "text/plain": [
              "'Ram Shyam Hari Sita Rita '"
            ],
            "application/vnd.google.colaboratory.intrinsic+json": {
              "type": "string"
            }
          },
          "metadata": {},
          "execution_count": 7
        }
      ]
    },
    {
      "cell_type": "code",
      "source": [
        "a  = \"App Cat Ball Dog God\"\n",
        "a = a.replace(input(\"Enter the word you wish to replace = \"),\" \")\n",
        "print(a)"
      ],
      "metadata": {
        "colab": {
          "base_uri": "https://localhost:8080/"
        },
        "id": "ZGQQ4z5iYCix",
        "outputId": "17432a75-c122-457a-da54-368ee7e9cfa2"
      },
      "execution_count": 6,
      "outputs": [
        {
          "output_type": "stream",
          "name": "stdout",
          "text": [
            "Enter the word you wish to replace = Dog\n",
            "App Cat Ball   God\n"
          ]
        }
      ]
    },
    {
      "cell_type": "code",
      "source": [
        "a = input(\"Enter a word = \").lower()\n",
        "print(a)"
      ],
      "metadata": {
        "colab": {
          "base_uri": "https://localhost:8080/"
        },
        "id": "FiqMtKgCY15P",
        "outputId": "b3337284-36de-4c0e-d243-0d992ff4f90e"
      },
      "execution_count": 5,
      "outputs": [
        {
          "output_type": "stream",
          "name": "stdout",
          "text": [
            "Enter a word = SALIN\n",
            "salin\n"
          ]
        }
      ]
    },
    {
      "cell_type": "code",
      "source": [
        "a = \"Python\"\n",
        "print(a[0:-2]) #Both these codes do the same thing\n",
        "print(a[:-2])"
      ],
      "metadata": {
        "colab": {
          "base_uri": "https://localhost:8080/"
        },
        "id": "XkkY8p70Z_-q",
        "outputId": "cc92682b-7214-4cf6-ff4a-21086d36443d"
      },
      "execution_count": 2,
      "outputs": [
        {
          "output_type": "stream",
          "name": "stdout",
          "text": [
            "Pyth\n",
            "Pyth\n"
          ]
        }
      ]
    },
    {
      "cell_type": "code",
      "source": [
        "a = \"Python\"\n",
        "print(a[-2])"
      ],
      "metadata": {
        "colab": {
          "base_uri": "https://localhost:8080/"
        },
        "id": "hwPiL32Xaol-",
        "outputId": "32e1e627-1437-49d7-ea78-7d16d464b09e"
      },
      "execution_count": 3,
      "outputs": [
        {
          "output_type": "stream",
          "name": "stdout",
          "text": [
            "o\n"
          ]
        }
      ]
    },
    {
      "cell_type": "code",
      "source": [
        "a = \"Roji\"\n",
        "b = \" Mamta\"\n",
        "c = a+b\n",
        "\n",
        "print(c)"
      ],
      "metadata": {
        "colab": {
          "base_uri": "https://localhost:8080/"
        },
        "id": "ZAht6n2USJVr",
        "outputId": "393816cd-ff43-4cbc-899f-657885850c30"
      },
      "execution_count": 4,
      "outputs": [
        {
          "output_type": "stream",
          "name": "stdout",
          "text": [
            "Roji Mamta\n"
          ]
        }
      ]
    },
    {
      "cell_type": "markdown",
      "source": [
        "**LIST**"
      ],
      "metadata": {
        "id": "2Xfa5baRa1Tu"
      }
    },
    {
      "cell_type": "markdown",
      "source": [
        "Lists are indexable, ordered, mutable data type in Python."
      ],
      "metadata": {
        "id": "_qBmMKcUa4MG"
      }
    },
    {
      "cell_type": "code",
      "source": [
        "a = list()\n",
        "b = []\n",
        "c = [\"Aristocrat\", \"bureaucrat\"]\n",
        "\n",
        "print(type(a))\n",
        "print(type(b))\n",
        "print(type(c))"
      ],
      "metadata": {
        "colab": {
          "base_uri": "https://localhost:8080/"
        },
        "id": "IuhyhEpibABa",
        "outputId": "8ad87d15-193a-40e2-b2cd-efad2499993c"
      },
      "execution_count": 42,
      "outputs": [
        {
          "output_type": "stream",
          "name": "stdout",
          "text": [
            "<class 'list'>\n",
            "<class 'list'>\n",
            "<class 'list'>\n"
          ]
        }
      ]
    },
    {
      "cell_type": "markdown",
      "source": [
        "**Slicing**"
      ],
      "metadata": {
        "id": "owHQLSRhbacN"
      }
    },
    {
      "cell_type": "markdown",
      "source": [
        "Slicing is when we extract a certain portion of the data as per our requirement."
      ],
      "metadata": {
        "id": "Y0vfLo0rbd8_"
      }
    },
    {
      "cell_type": "code",
      "source": [
        "a = [\"Ram\",\"Shyam\",\"Apple\",\"Goat\",\"Dog\",\"Egg\",\"Fish\",\"Home\",\"Ice\",\"James\",\"Kite\",\"Life\"]"
      ],
      "metadata": {
        "id": "j8TgXCWObmdm"
      },
      "execution_count": 43,
      "outputs": []
    },
    {
      "cell_type": "code",
      "source": [
        "print(a[0])\n",
        "print(a[0:5])\n",
        "print(a[0:8:2])\n",
        "print(a[:-3])"
      ],
      "metadata": {
        "colab": {
          "base_uri": "https://localhost:8080/"
        },
        "id": "BDled1Uabbzt",
        "outputId": "4e148447-d212-4256-8f45-70a095ece24a"
      },
      "execution_count": 44,
      "outputs": [
        {
          "output_type": "stream",
          "name": "stdout",
          "text": [
            "Ram\n",
            "['Ram', 'Shyam', 'Apple', 'Goat', 'Dog']\n",
            "['Ram', 'Apple', 'Dog', 'Fish']\n",
            "['Ram', 'Shyam', 'Apple', 'Goat', 'Dog', 'Egg', 'Fish', 'Home', 'Ice']\n"
          ]
        }
      ]
    },
    {
      "cell_type": "markdown",
      "source": [
        "List Operations"
      ],
      "metadata": {
        "id": "fej0fS_RcdzM"
      }
    },
    {
      "cell_type": "code",
      "source": [
        "a = [\"A\",\"B\",\"C\"]\n",
        "b = [1,2,3]\n",
        "c = a+b\n",
        "\n",
        "print(c)"
      ],
      "metadata": {
        "colab": {
          "base_uri": "https://localhost:8080/"
        },
        "id": "yGmo6lKkcRn8",
        "outputId": "179b8e06-c838-474c-8ba6-ca52875bc063"
      },
      "execution_count": 45,
      "outputs": [
        {
          "output_type": "stream",
          "name": "stdout",
          "text": [
            "['A', 'B', 'C', 1, 2, 3]\n"
          ]
        }
      ]
    },
    {
      "cell_type": "code",
      "source": [
        "a = [2,4,6]\n",
        "\n",
        "print(a*2)"
      ],
      "metadata": {
        "colab": {
          "base_uri": "https://localhost:8080/"
        },
        "id": "tC3sNjNIchz7",
        "outputId": "65c63af1-5676-429d-a2d2-aca6d9b6ee9d"
      },
      "execution_count": 46,
      "outputs": [
        {
          "output_type": "stream",
          "name": "stdout",
          "text": [
            "[2, 4, 6, 2, 4, 6]\n"
          ]
        }
      ]
    },
    {
      "cell_type": "markdown",
      "source": [
        "Create"
      ],
      "metadata": {
        "id": "vx0vyZk4dmEg"
      }
    },
    {
      "cell_type": "code",
      "source": [
        "list = []\n",
        "\n",
        "n = int(input(\"Enter n = \"))\n",
        "for i in range(n):\n",
        "  x = input(\"Enter objects = \")\n",
        "  list = list+[x]\n",
        "print(list)"
      ],
      "metadata": {
        "colab": {
          "base_uri": "https://localhost:8080/"
        },
        "id": "1KEaMwZncn3m",
        "outputId": "96c3c08d-0444-440c-d61a-4fa574d4a855"
      },
      "execution_count": 47,
      "outputs": [
        {
          "output_type": "stream",
          "name": "stdout",
          "text": [
            "Enter n = 3\n",
            "Enter objects = Salin\n",
            "Enter objects = Henry\n",
            "Enter objects = Tyler\n",
            "['Salin', 'Henry', 'Tyler']\n"
          ]
        }
      ]
    },
    {
      "cell_type": "code",
      "source": [
        "l1 = []\n",
        "\n",
        "p = int(input('Enter p = '))\n",
        "\n",
        "for i in range(p):\n",
        "  q = input('Enter items = ')\n",
        "  l1 = l1+[q]\n",
        "\n",
        "print(l1)"
      ],
      "metadata": {
        "colab": {
          "base_uri": "https://localhost:8080/"
        },
        "id": "pq938x81bYkJ",
        "outputId": "71911b76-4a8a-4f71-b7c9-7bf06ee07449"
      },
      "execution_count": 48,
      "outputs": [
        {
          "output_type": "stream",
          "name": "stdout",
          "text": [
            "Enter p = 3\n",
            "Enter items = Bag\n",
            "Enter items = Pen\n",
            "Enter items = Copy\n",
            "['Bag', 'Pen', 'Copy']\n"
          ]
        }
      ]
    },
    {
      "cell_type": "markdown",
      "source": [
        "Read"
      ],
      "metadata": {
        "id": "NkUbNUYpeHmZ"
      }
    },
    {
      "cell_type": "code",
      "source": [
        "a = [\"Box\",\"Pen\",\"Pencil\"]\n",
        "\n",
        "for i in a:\n",
        "  print(i)"
      ],
      "metadata": {
        "colab": {
          "base_uri": "https://localhost:8080/"
        },
        "id": "umHZjp2qeIQO",
        "outputId": "79b70cf1-125c-4be4-c93e-8a645c83f9f6"
      },
      "execution_count": 49,
      "outputs": [
        {
          "output_type": "stream",
          "name": "stdout",
          "text": [
            "Box\n",
            "Pen\n",
            "Pencil\n"
          ]
        }
      ]
    },
    {
      "cell_type": "markdown",
      "source": [
        "Update"
      ],
      "metadata": {
        "id": "99HbpmCteSPw"
      }
    },
    {
      "cell_type": "code",
      "source": [
        "a = [\"Box\",\"Pen\",\"Pencil\"]\n",
        "\n",
        "a[1] = \"Den\"\n",
        "\n",
        "print(a)"
      ],
      "metadata": {
        "colab": {
          "base_uri": "https://localhost:8080/"
        },
        "id": "Vkofy3fMeTki",
        "outputId": "24c22aee-a8cd-45cd-be68-0e234434cbea"
      },
      "execution_count": 52,
      "outputs": [
        {
          "output_type": "stream",
          "name": "stdout",
          "text": [
            "['Box', 'Den', 'Pencil']\n"
          ]
        }
      ]
    },
    {
      "cell_type": "markdown",
      "source": [
        "Delete\n"
      ],
      "metadata": {
        "id": "xbJS_ugnfL2k"
      }
    },
    {
      "cell_type": "code",
      "source": [
        "a = [\"Ram\",\"Shyam\",\"Apple\",\"Goat\",\"Dog\",\"Egg\",\"Fish\",\"Home\",\"Ice\",\"James\",\"Kite\",\"Life\"]\n",
        "\n",
        "del a[5]\n",
        "\n",
        "print(a)"
      ],
      "metadata": {
        "colab": {
          "base_uri": "https://localhost:8080/"
        },
        "id": "xGG__TfhfNNc",
        "outputId": "33ec82da-00b0-495e-b119-441222fdea00"
      },
      "execution_count": 53,
      "outputs": [
        {
          "output_type": "stream",
          "name": "stdout",
          "text": [
            "['Ram', 'Shyam', 'Apple', 'Goat', 'Dog', 'Fish', 'Home', 'Ice', 'James', 'Kite', 'Life']\n"
          ]
        }
      ]
    },
    {
      "cell_type": "code",
      "source": [
        "a = [\"Ram\",\"Shyam\",\"Apple\",\"Goat\",\"Dog\",\"Egg\",\"Fish\",\"Home\",\"Ice\",\"James\",\"Kite\",\"Life\"]\n",
        "\n",
        "del a[1:6]\n",
        "\n",
        "print(a)"
      ],
      "metadata": {
        "colab": {
          "base_uri": "https://localhost:8080/"
        },
        "id": "GpYq0sIkfK2V",
        "outputId": "30f9b067-f133-499f-f195-45512c4ca186"
      },
      "execution_count": 54,
      "outputs": [
        {
          "output_type": "stream",
          "name": "stdout",
          "text": [
            "['Ram', 'Fish', 'Home', 'Ice', 'James', 'Kite', 'Life']\n"
          ]
        }
      ]
    },
    {
      "cell_type": "code",
      "source": [
        "l = []\n",
        "\n",
        "n = int(input(\"Enter a number = \"))\n",
        "\n",
        "for i  in range(n):\n",
        "  a = int(input(\"Enter number = \"))\n",
        "  l = l + [a]\n",
        "\n",
        "print(l)\n"
      ],
      "metadata": {
        "colab": {
          "base_uri": "https://localhost:8080/"
        },
        "id": "C7w3qSpRh0Zr",
        "outputId": "b52c946a-9554-4c8c-bc60-04227c08e69a"
      },
      "execution_count": 56,
      "outputs": [
        {
          "output_type": "stream",
          "name": "stdout",
          "text": [
            "Enter a number = 8\n",
            "Enter number = 55\n",
            "Enter number = 99\n",
            "Enter number = 44\n",
            "Enter number = 33\n",
            "Enter number = 5245\n",
            "Enter number = 524\n",
            "Enter number = 895\n",
            "Enter number = 986532\n",
            "[55, 99, 44, 33, 5245, 524, 895, 986532]\n"
          ]
        }
      ]
    },
    {
      "cell_type": "code",
      "source": [
        "print(max(l))\n",
        "print(min(l))\n"
      ],
      "metadata": {
        "colab": {
          "base_uri": "https://localhost:8080/"
        },
        "id": "bmjRCm65iSXk",
        "outputId": "e87ceee5-7594-4b9a-9da9-9a509938ff9e"
      },
      "execution_count": 58,
      "outputs": [
        {
          "output_type": "stream",
          "name": "stdout",
          "text": [
            "986532\n",
            "33\n"
          ]
        }
      ]
    },
    {
      "cell_type": "code",
      "source": [
        "l.sort()\n",
        "print(l)"
      ],
      "metadata": {
        "colab": {
          "base_uri": "https://localhost:8080/"
        },
        "id": "Lq-xeBm5iaM2",
        "outputId": "53ab6d54-74b2-4f8d-caf4-64930d34054a"
      },
      "execution_count": 61,
      "outputs": [
        {
          "output_type": "stream",
          "name": "stdout",
          "text": [
            "[33, 44, 55, 99, 524, 895, 5245, 986532]\n"
          ]
        }
      ]
    },
    {
      "cell_type": "code",
      "source": [
        "l.reverse()\n",
        "print(l)"
      ],
      "metadata": {
        "colab": {
          "base_uri": "https://localhost:8080/"
        },
        "id": "XCzX1-tfio4N",
        "outputId": "30898e45-2d14-4238-c08b-853913e23b85"
      },
      "execution_count": 62,
      "outputs": [
        {
          "output_type": "stream",
          "name": "stdout",
          "text": [
            "[986532, 5245, 895, 524, 99, 55, 44, 33]\n"
          ]
        }
      ]
    },
    {
      "cell_type": "code",
      "source": [
        "a = [\"Ram\",\"Shyam\",\"Apple\",\"Goat\",\"Dog\",\"Egg\",\"Fish\",\"Home\",\"Ice\",\"James\",\"Kite\",\"Life\"]\n",
        "\n",
        "a.remove(\"Ram\")\n",
        "\n",
        "print(a)"
      ],
      "metadata": {
        "colab": {
          "base_uri": "https://localhost:8080/"
        },
        "id": "DlPoG0WujDzo",
        "outputId": "9175c0b2-bcda-46b2-88c6-7ac697b1e144"
      },
      "execution_count": 66,
      "outputs": [
        {
          "output_type": "stream",
          "name": "stdout",
          "text": [
            "['Shyam', 'Apple', 'Goat', 'Dog', 'Egg', 'Fish', 'Home', 'Ice', 'James', 'Kite', 'Life']\n"
          ]
        }
      ]
    },
    {
      "cell_type": "code",
      "source": [
        "del a[2]\n",
        "\n",
        "print(a)"
      ],
      "metadata": {
        "colab": {
          "base_uri": "https://localhost:8080/"
        },
        "id": "juUcLG8JjMys",
        "outputId": "b8c869f3-4a49-4036-cbc7-7bbe339ff9f1"
      },
      "execution_count": 67,
      "outputs": [
        {
          "output_type": "stream",
          "name": "stdout",
          "text": [
            "['Shyam', 'Apple', 'Dog', 'Egg', 'Fish', 'Home', 'Ice', 'James', 'Kite', 'Life']\n"
          ]
        }
      ]
    },
    {
      "cell_type": "code",
      "source": [
        "#extend\n",
        "\n",
        "a = [\"Bag\",\"Pen\",\"Paper\"]\n",
        "b = [2,4,65]\n",
        "\n",
        "a.extend(b)\n",
        "print(a)"
      ],
      "metadata": {
        "colab": {
          "base_uri": "https://localhost:8080/"
        },
        "id": "WuhdO5HajTI3",
        "outputId": "fcb8275b-1ae8-4782-8f56-dc034ab68d71"
      },
      "execution_count": 71,
      "outputs": [
        {
          "output_type": "stream",
          "name": "stdout",
          "text": [
            "['Bag', 'Pen', 'Paper', 2, 4, 65]\n"
          ]
        }
      ]
    },
    {
      "cell_type": "code",
      "source": [
        "#append\n",
        "a = [\"Bag\",\"Pen\",\"Paper\"]\n",
        "b = 65\n",
        "\n",
        "a.append(b)\n",
        "\n",
        "print(a)"
      ],
      "metadata": {
        "colab": {
          "base_uri": "https://localhost:8080/"
        },
        "id": "t2P7BbH2kfyN",
        "outputId": "c25b6618-6f91-4c03-f37d-9bea04e0adc6"
      },
      "execution_count": 74,
      "outputs": [
        {
          "output_type": "stream",
          "name": "stdout",
          "text": [
            "['Bag', 'Pen', 'Paper', 65]\n"
          ]
        }
      ]
    },
    {
      "cell_type": "code",
      "source": [
        "a = [\"Bag\",\"Pen\",\"Paper\"]\n",
        "b = [2,4,65]\n",
        "\n",
        "a.append(b)\n",
        "\n",
        "print(a)"
      ],
      "metadata": {
        "colab": {
          "base_uri": "https://localhost:8080/"
        },
        "id": "KfU68EWhj0oy",
        "outputId": "c0157ed8-ff8d-48bb-eaec-e44b74d21911"
      },
      "execution_count": 72,
      "outputs": [
        {
          "output_type": "stream",
          "name": "stdout",
          "text": [
            "['Bag', 'Pen', 'Paper', [2, 4, 65]]\n"
          ]
        }
      ]
    },
    {
      "cell_type": "code",
      "source": [
        "#insert\n",
        "\n",
        "a  = [\"Bag\",\"Pen\",\"Paper\"]\n",
        "\n",
        "a.insert(1,\"Rock\")\n",
        "\n",
        "print(a)"
      ],
      "metadata": {
        "colab": {
          "base_uri": "https://localhost:8080/"
        },
        "id": "N4_4tNfQkBT9",
        "outputId": "2e3778a9-e4da-47ff-cd28-77deea9a7a60"
      },
      "execution_count": 73,
      "outputs": [
        {
          "output_type": "stream",
          "name": "stdout",
          "text": [
            "['Bag', 'Rock', 'Pen', 'Paper']\n"
          ]
        }
      ]
    },
    {
      "cell_type": "code",
      "source": [
        "#pop\n",
        "a.pop(1)"
      ],
      "metadata": {
        "colab": {
          "base_uri": "https://localhost:8080/",
          "height": 35
        },
        "id": "tOxexpCFkO5_",
        "outputId": "a969e133-da79-4b49-f936-95a2e07164a0"
      },
      "execution_count": 75,
      "outputs": [
        {
          "output_type": "execute_result",
          "data": {
            "text/plain": [
              "'Pen'"
            ],
            "application/vnd.google.colaboratory.intrinsic+json": {
              "type": "string"
            }
          },
          "metadata": {},
          "execution_count": 75
        }
      ]
    },
    {
      "cell_type": "code",
      "source": [
        "a = [\"Ram\",\"Shyam\",\"Apple\",\"Goat\",\"Dog\",\"Egg\",\"Fish\",\"Home\",\"Ice\",\"James\",\"Kite\",\"Life\"]\n",
        "\n",
        "a.index(\"Apple\")"
      ],
      "metadata": {
        "colab": {
          "base_uri": "https://localhost:8080/"
        },
        "id": "UqFlgcC0k0dJ",
        "outputId": "91314882-a718-4f92-9853-68becf3774d3"
      },
      "execution_count": 77,
      "outputs": [
        {
          "output_type": "execute_result",
          "data": {
            "text/plain": [
              "2"
            ]
          },
          "metadata": {},
          "execution_count": 77
        }
      ]
    }
  ]
}