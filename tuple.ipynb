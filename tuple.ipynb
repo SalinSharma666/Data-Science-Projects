{
  "cells": [
    {
      "cell_type": "markdown",
      "metadata": {
        "id": "view-in-github",
        "colab_type": "text"
      },
      "source": [
        "<a href=\"https://colab.research.google.com/github/SalinSharma666/Data-Science-Projects/blob/main/tuple.ipynb\" target=\"_parent\"><img src=\"https://colab.research.google.com/assets/colab-badge.svg\" alt=\"Open In Colab\"/></a>"
      ]
    },
    {
      "cell_type": "code",
      "execution_count": null,
      "id": "f67189b4",
      "metadata": {
        "id": "f67189b4"
      },
      "outputs": [],
      "source": [
        "# Tuple\n",
        "# -Indexing\n",
        "# -Ordered\n",
        "# -Multiple and duplicate value\n",
        "# -Imutable"
      ]
    },
    {
      "cell_type": "code",
      "execution_count": null,
      "id": "ab5e4829",
      "metadata": {
        "id": "ab5e4829",
        "outputId": "8a8a82e1-cffe-443b-ed5f-056b1214bde0"
      },
      "outputs": [
        {
          "data": {
            "text/plain": [
              "tuple"
            ]
          },
          "execution_count": 2,
          "metadata": {},
          "output_type": "execute_result"
        }
      ],
      "source": [
        "b = tuple()\n",
        "a = (1,2,3)\n",
        "type(a)"
      ]
    },
    {
      "cell_type": "code",
      "execution_count": null,
      "id": "4c2b5b06",
      "metadata": {
        "id": "4c2b5b06",
        "outputId": "32c71c2e-099b-4dbc-acec-e31775b6ff52"
      },
      "outputs": [
        {
          "data": {
            "text/plain": [
              "tuple"
            ]
          },
          "execution_count": 3,
          "metadata": {},
          "output_type": "execute_result"
        }
      ],
      "source": [
        "a = ()\n",
        "type(a)"
      ]
    },
    {
      "cell_type": "code",
      "execution_count": null,
      "id": "89d8e907",
      "metadata": {
        "id": "89d8e907",
        "outputId": "cc8997f4-303c-479b-9d31-1ae2a0a66fef"
      },
      "outputs": [
        {
          "data": {
            "text/plain": [
              "tuple"
            ]
          },
          "execution_count": 10,
          "metadata": {},
          "output_type": "execute_result"
        }
      ],
      "source": [
        "a = (\"Apple\",)\n",
        "type(a)"
      ]
    },
    {
      "cell_type": "code",
      "execution_count": null,
      "id": "b7bbeb89",
      "metadata": {
        "id": "b7bbeb89",
        "outputId": "362039a4-792e-4737-8bd0-39b34e31c867"
      },
      "outputs": [
        {
          "name": "stdout",
          "output_type": "stream",
          "text": [
            "Apple\n",
            "('Apple',)\n",
            "('Apple', 'Cat')\n"
          ]
        }
      ],
      "source": [
        "a = (\"Apple\",\"Ball\",\"Cat\")\n",
        "print(a[0])\n",
        "print(a[0:1])\n",
        "print(a[0:3:2])"
      ]
    },
    {
      "cell_type": "code",
      "execution_count": null,
      "id": "dec6b271",
      "metadata": {
        "id": "dec6b271"
      },
      "outputs": [],
      "source": [
        "# No Create (append,insert,extend)\n",
        "# No Update\n",
        "# No del remove pop\n",
        "# No sort"
      ]
    },
    {
      "cell_type": "code",
      "execution_count": null,
      "id": "61333b97",
      "metadata": {
        "id": "61333b97",
        "outputId": "e82abd49-b0a0-4ea4-b2d1-7be247f1fee3"
      },
      "outputs": [
        {
          "data": {
            "text/plain": [
              "('Apple', 'Ball')"
            ]
          },
          "execution_count": 17,
          "metadata": {},
          "output_type": "execute_result"
        }
      ],
      "source": [
        "# a = (\"Apple\",\"Ball\",\"Cat\")\n",
        "a = ()\n",
        "a = a+(\"Apple\",)\n",
        "a = a+(\"Ball\",)\n",
        "a"
      ]
    },
    {
      "cell_type": "code",
      "execution_count": null,
      "id": "8766d214",
      "metadata": {
        "id": "8766d214",
        "outputId": "ade536e0-4b7b-450c-ff28-b5d29a19c9e8"
      },
      "outputs": [
        {
          "name": "stdout",
          "output_type": "stream",
          "text": [
            "Enter n = 2\n",
            "Enter x = Apple\n",
            "Enter x = Ball\n",
            "('Apple', 'Ball')\n"
          ]
        }
      ],
      "source": [
        "apple = ()\n",
        "n = int(input(\"Enter n = \"))\n",
        "for i in range(n):\n",
        "    x = input(\"Enter x = \")\n",
        "    apple = apple+(x,)\n",
        "    \n",
        "print(apple)"
      ]
    },
    {
      "cell_type": "code",
      "execution_count": null,
      "id": "a98787b0",
      "metadata": {
        "id": "a98787b0"
      },
      "outputs": [],
      "source": [
        "# we can use\n",
        "# min() max() sum() \n",
        "# index()\n",
        "# search"
      ]
    },
    {
      "cell_type": "code",
      "execution_count": null,
      "id": "4a1df8e5",
      "metadata": {
        "id": "4a1df8e5",
        "outputId": "56b54a07-6f08-40a0-e8a9-342bd0b35adb"
      },
      "outputs": [
        {
          "data": {
            "text/plain": [
              "('Ball',)"
            ]
          },
          "execution_count": 5,
          "metadata": {},
          "output_type": "execute_result"
        }
      ],
      "source": [
        "a =('Apple', 'Ball')\n",
        "a = list(a)\n",
        "del a[0]\n",
        "a= tuple(a)\n",
        "a"
      ]
    },
    {
      "cell_type": "code",
      "execution_count": null,
      "id": "11f045c2",
      "metadata": {
        "id": "11f045c2",
        "outputId": "be213f34-1ace-4669-de8f-1490e8fb7c4f"
      },
      "outputs": [
        {
          "name": "stdout",
          "output_type": "stream",
          "text": [
            "['H', 'e', 'l', 'l', 'o', ' ', 'W', 'o', 'r', 'l', 'd']\n",
            "('H', 'e', 'l', 'l', 'o', ' ', 'W', 'o', 'r', 'l', 'd')\n"
          ]
        }
      ],
      "source": [
        "a = \"Hello World\"\n",
        "print(list(a))\n",
        "print(tuple(a))"
      ]
    },
    {
      "cell_type": "code",
      "execution_count": null,
      "id": "c0d039c1",
      "metadata": {
        "id": "c0d039c1",
        "outputId": "8a19c0c6-1e9b-477b-c2a4-515c591d6030"
      },
      "outputs": [
        {
          "data": {
            "text/plain": [
              "\"['H', 'e', 'l', 'l', 'o', ' ', 'W', 'o', 'r', 'l', 'd']\""
            ]
          },
          "execution_count": 8,
          "metadata": {},
          "output_type": "execute_result"
        }
      ],
      "source": [
        "a = ['H', 'e', 'l', 'l', 'o', ' ', 'W', 'o', 'r', 'l', 'd']\n",
        "str(a)"
      ]
    },
    {
      "cell_type": "code",
      "execution_count": null,
      "id": "970da0af",
      "metadata": {
        "id": "970da0af",
        "outputId": "b012e3a1-932f-4c72-af98-480a05230464"
      },
      "outputs": [
        {
          "data": {
            "text/plain": [
              "\"('H', 'e', 'l', 'l', 'o', ' ', 'W', 'o', 'r', 'l', 'd')\""
            ]
          },
          "execution_count": 9,
          "metadata": {},
          "output_type": "execute_result"
        }
      ],
      "source": [
        "a = ('H', 'e', 'l', 'l', 'o', ' ', 'W', 'o', 'r', 'l', 'd')\n",
        "str(a)"
      ]
    },
    {
      "cell_type": "code",
      "execution_count": null,
      "id": "18456c41",
      "metadata": {
        "id": "18456c41"
      },
      "outputs": [],
      "source": []
    }
  ],
  "metadata": {
    "kernelspec": {
      "display_name": "Python 3 (ipykernel)",
      "language": "python",
      "name": "python3"
    },
    "language_info": {
      "codemirror_mode": {
        "name": "ipython",
        "version": 3
      },
      "file_extension": ".py",
      "mimetype": "text/x-python",
      "name": "python",
      "nbconvert_exporter": "python",
      "pygments_lexer": "ipython3",
      "version": "3.9.12"
    },
    "colab": {
      "provenance": [],
      "include_colab_link": true
    }
  },
  "nbformat": 4,
  "nbformat_minor": 5
}