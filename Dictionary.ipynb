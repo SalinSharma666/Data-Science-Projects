{
  "nbformat": 4,
  "nbformat_minor": 0,
  "metadata": {
    "colab": {
      "provenance": [],
      "authorship_tag": "ABX9TyNsQO1nO9pYEGWLXXWoQ8qs",
      "include_colab_link": true
    },
    "kernelspec": {
      "name": "python3",
      "display_name": "Python 3"
    },
    "language_info": {
      "name": "python"
    }
  },
  "cells": [
    {
      "cell_type": "markdown",
      "metadata": {
        "id": "view-in-github",
        "colab_type": "text"
      },
      "source": [
        "<a href=\"https://colab.research.google.com/github/SalinSharma666/Data-Science-Projects/blob/main/Dictionary.ipynb\" target=\"_parent\"><img src=\"https://colab.research.google.com/assets/colab-badge.svg\" alt=\"Open In Colab\"/></a>"
      ]
    },
    {
      "cell_type": "markdown",
      "source": [
        "**Dictionaries**"
      ],
      "metadata": {
        "id": "SIagCm-PJUPf"
      }
    },
    {
      "cell_type": "markdown",
      "source": [
        "Dictionaries are mutable, ordered, indexable data types in Python that can store unique as we as duplicate values.\n",
        "\n",
        "The syntax is {key:value,key:value,...}."
      ],
      "metadata": {
        "id": "alTwbW-xGpgD"
      }
    },
    {
      "cell_type": "code",
      "source": [
        "a = {'a':'apple','b':'ball','c':'cat','d':'dog'}\n",
        "b = {}\n",
        "\n",
        "print(type(a)) #key is the index in dictionaries\n",
        "print(a['a'])\n",
        "print(a['c'])"
      ],
      "metadata": {
        "colab": {
          "base_uri": "https://localhost:8080/"
        },
        "id": "ILmCXkBVHLmb",
        "outputId": "54a07f71-3b3f-4d52-8659-dbca9df41094"
      },
      "execution_count": 1,
      "outputs": [
        {
          "output_type": "stream",
          "name": "stdout",
          "text": [
            "<class 'dict'>\n",
            "apple\n",
            "cat\n"
          ]
        }
      ]
    },
    {
      "cell_type": "code",
      "source": [
        "a = {'a':'apple','b':'Ball','c':'cat','a':'dog'}\n",
        "\n",
        "print(a) #a dictionary must have unique keys, if repeated, takes last value. In this case, python took the last value of the dictionary as key 'a' is repeated."
      ],
      "metadata": {
        "colab": {
          "base_uri": "https://localhost:8080/"
        },
        "id": "BvPArxU2Hx50",
        "outputId": "58f022ea-f56e-43a3-9cc9-f9b0342adda8"
      },
      "execution_count": 5,
      "outputs": [
        {
          "output_type": "stream",
          "name": "stdout",
          "text": [
            "{'a': 'dog', 'b': 'Ball', 'c': 'cat'}\n"
          ]
        }
      ]
    },
    {
      "cell_type": "markdown",
      "source": [
        "No concatenation of multiplication of dictionaries is allowed."
      ],
      "metadata": {
        "id": "PkAw9D8BIeYc"
      }
    },
    {
      "cell_type": "code",
      "source": [
        "a = {'a':'apple','b':'Ball','c':'cat','A':'apple'}\n",
        "\n",
        "for i in a:\n",
        "  print(i) #prints keys"
      ],
      "metadata": {
        "colab": {
          "base_uri": "https://localhost:8080/"
        },
        "id": "lZPYDd1EIZWs",
        "outputId": "de42f08b-e835-49b2-de3f-ab4203f4d5ce"
      },
      "execution_count": 6,
      "outputs": [
        {
          "output_type": "stream",
          "name": "stdout",
          "text": [
            "a\n",
            "b\n",
            "c\n",
            "A\n"
          ]
        }
      ]
    },
    {
      "cell_type": "code",
      "source": [
        "for i in a.values():\n",
        "  print(i) #prints values"
      ],
      "metadata": {
        "colab": {
          "base_uri": "https://localhost:8080/"
        },
        "id": "bBeZs9SXIuna",
        "outputId": "f23f7c2f-cd26-45ee-a9a7-f0811bda5bc3"
      },
      "execution_count": 7,
      "outputs": [
        {
          "output_type": "stream",
          "name": "stdout",
          "text": [
            "apple\n",
            "Ball\n",
            "cat\n",
            "apple\n"
          ]
        }
      ]
    },
    {
      "cell_type": "code",
      "source": [
        "for i in a.items():\n",
        "  print(i) #prints both keys and values"
      ],
      "metadata": {
        "colab": {
          "base_uri": "https://localhost:8080/"
        },
        "id": "XTP7vbQ6I00f",
        "outputId": "39b1d7fc-879a-4f49-eb5d-0c3a02ec66bb"
      },
      "execution_count": 8,
      "outputs": [
        {
          "output_type": "stream",
          "name": "stdout",
          "text": [
            "('a', 'apple')\n",
            "('b', 'Ball')\n",
            "('c', 'cat')\n",
            "('A', 'apple')\n"
          ]
        }
      ]
    },
    {
      "cell_type": "code",
      "source": [
        "l = []\n",
        "\n",
        "a = {'a':'apple','b':'ball','c':'cat','d':'dog'}\n",
        "\n",
        "for i in a.items():\n",
        "  l.append(i)\n",
        "print(l)\n",
        "print(dict(l))"
      ],
      "metadata": {
        "colab": {
          "base_uri": "https://localhost:8080/"
        },
        "id": "0YI5JvmcHGzM",
        "outputId": "00488980-e3fc-4a0b-e11b-67f20d2989cf"
      },
      "execution_count": 11,
      "outputs": [
        {
          "output_type": "stream",
          "name": "stdout",
          "text": [
            "[('a', 'apple'), ('b', 'ball'), ('c', 'cat'), ('d', 'dog')]\n",
            "{'a': 'apple', 'b': 'ball', 'c': 'cat', 'd': 'dog'}\n"
          ]
        }
      ]
    },
    {
      "cell_type": "code",
      "source": [
        "d = {}\n",
        "\n",
        "d['a'] = 'apple'\n",
        "d['b'] = 'ballistic missile'\n",
        "d['c'] = 'catagorical data'\n",
        "\n",
        "d"
      ],
      "metadata": {
        "colab": {
          "base_uri": "https://localhost:8080/"
        },
        "id": "rwS4N3F1KDZq",
        "outputId": "bc90a221-e7fa-45b9-e11e-d095f20b18ed"
      },
      "execution_count": 12,
      "outputs": [
        {
          "output_type": "execute_result",
          "data": {
            "text/plain": [
              "{'a': 'apple', 'b': 'ballistic missile', 'c': 'catagorical data'}"
            ]
          },
          "metadata": {},
          "execution_count": 12
        }
      ]
    },
    {
      "cell_type": "code",
      "source": [
        "data = {}\n",
        "\n",
        "n = int(input('Enter a number = '))\n",
        "for i in range(n):\n",
        "  name = input(\"Enter name is = \")\n",
        "  phone = int(input(\"Enter your phone number\"))\n",
        "\n",
        "  data[phone] = name\n",
        "\n",
        "print(data)"
      ],
      "metadata": {
        "colab": {
          "base_uri": "https://localhost:8080/"
        },
        "id": "3KUaNs_LKWQ_",
        "outputId": "e9ed6d00-736c-48fc-821d-84b06cac25ee"
      },
      "execution_count": 13,
      "outputs": [
        {
          "output_type": "stream",
          "name": "stdout",
          "text": [
            "Enter a number = 3\n",
            "Enter name is = Ram\n",
            "Enter your phone number9801818196\n",
            "Enter name is = Salin\n",
            "Enter your phone number9801818195\n",
            "Enter name is = Shyam\n",
            "Enter your phone number9851024569\n",
            "{9801818196: 'Ram', 9801818195: 'Salin', 9851024569: 'Shyam'}\n"
          ]
        }
      ]
    },
    {
      "cell_type": "code",
      "source": [
        "info = {}\n",
        "\n",
        "num1 = int(input(\"Enter the number of people that whose data needs to be stored = \"))\n",
        "\n",
        "for i in range(num1):\n",
        "  name = input(\"Enter name of the person is = \")\n",
        "  address = input(\"Enter address of the person is = \")\n",
        "\n",
        "  info[name] = address\n",
        "\n",
        "print(info)"
      ],
      "metadata": {
        "colab": {
          "base_uri": "https://localhost:8080/"
        },
        "id": "xmYWwFrNG7Ur",
        "outputId": "88bf692c-3687-4133-e616-0df02d8e8d10"
      },
      "execution_count": 15,
      "outputs": [
        {
          "output_type": "stream",
          "name": "stdout",
          "text": [
            "Enter the number of people that whose data needs to be stored = 10\n",
            "Enter name of the person is = Salin\n",
            "Enter address of the person is = Nakhhu\n",
            "Enter name of the person is = Sunita\n",
            "Enter address of the person is = Kusunti\n",
            "Enter name of the person is = Robijan\n",
            "Enter address of the person is = Khusibu\n",
            "Enter name of the person is = Mamta\n",
            "Enter address of the person is = Bhaktapur\n",
            "Enter name of the person is = Krishna\n",
            "Enter address of the person is = Dwarika\n",
            "Enter name of the person is = Apsara\n",
            "Enter address of the person is = Duwakot\n",
            "Enter name of the person is = Anisha\n",
            "Enter address of the person is = Kumaripati\n",
            "Enter name of the person is = Mahadev\n",
            "Enter address of the person is = Kailash Parvat\n",
            "Enter name of the person is = Ram\n",
            "Enter address of the person is = Ayodhya\n",
            "Enter name of the person is = Gita\n",
            "Enter address of the person is = Koteshwor\n",
            "{'Salin': 'Nakhhu', 'Sunita': 'Kusunti', 'Robijan': 'Khusibu', 'Mamta': 'Bhaktapur', 'Krishna': 'Dwarika', 'Apsara': 'Duwakot', 'Anisha': 'Kumaripati', 'Mahadev': 'Kailash Parvat', 'Ram': 'Ayodhya', 'Gita': 'Koteshwor'}\n"
          ]
        }
      ]
    },
    {
      "cell_type": "code",
      "source": [
        "l = []\n",
        "a = {'a':'apple','b':'Ball','c':'cat','A':'apple'}\n",
        "\n",
        "for i in a.items():\n",
        "  l.append(list(i))\n",
        "l[0][1] = 'anthropology'\n",
        "\n",
        "print(dict(l))"
      ],
      "metadata": {
        "colab": {
          "base_uri": "https://localhost:8080/"
        },
        "id": "jIQAOqQBNEwC",
        "outputId": "40828e48-f779-40df-c366-c68a593fb8b3"
      },
      "execution_count": 16,
      "outputs": [
        {
          "output_type": "stream",
          "name": "stdout",
          "text": [
            "{'a': 'anthropology', 'b': 'Ball', 'c': 'cat', 'A': 'apple'}\n"
          ]
        }
      ]
    },
    {
      "cell_type": "code",
      "source": [
        "a = {'Salin': 'Nakhhu', 'Sunita': 'Kusunti', 'Robijan': 'Khusibu', 'Mamta': 'Bhaktapur'}\n",
        "\n",
        "print(list(a))"
      ],
      "metadata": {
        "colab": {
          "base_uri": "https://localhost:8080/"
        },
        "id": "gIE44jPENZIo",
        "outputId": "8b4320f3-95ae-4538-d4d2-6a18a66f6bf0"
      },
      "execution_count": 17,
      "outputs": [
        {
          "output_type": "stream",
          "name": "stdout",
          "text": [
            "['Salin', 'Sunita', 'Robijan', 'Mamta']\n"
          ]
        }
      ]
    },
    {
      "cell_type": "code",
      "source": [
        "list(a.values())"
      ],
      "metadata": {
        "colab": {
          "base_uri": "https://localhost:8080/"
        },
        "id": "5yLNd9QUNuhI",
        "outputId": "39bb5eab-e9ad-4201-99af-0f45eac0be11"
      },
      "execution_count": 19,
      "outputs": [
        {
          "output_type": "execute_result",
          "data": {
            "text/plain": [
              "['Nakhhu', 'Kusunti', 'Khusibu', 'Bhaktapur']"
            ]
          },
          "metadata": {},
          "execution_count": 19
        }
      ]
    },
    {
      "cell_type": "code",
      "source": [
        "list(a.items())"
      ],
      "metadata": {
        "colab": {
          "base_uri": "https://localhost:8080/"
        },
        "id": "CBPa_9PbN686",
        "outputId": "04233987-eb7c-4bee-b447-bb16a8a3024e"
      },
      "execution_count": 20,
      "outputs": [
        {
          "output_type": "execute_result",
          "data": {
            "text/plain": [
              "[('Salin', 'Nakhhu'),\n",
              " ('Sunita', 'Kusunti'),\n",
              " ('Robijan', 'Khusibu'),\n",
              " ('Mamta', 'Bhaktapur')]"
            ]
          },
          "metadata": {},
          "execution_count": 20
        }
      ]
    },
    {
      "cell_type": "code",
      "source": [
        "info = {}\n",
        "\n",
        "n = int((input(\"Enter number of data = \")))\n",
        "\n",
        "for i in range(n):\n",
        "  name = input(\"Enter name is  = \")\n",
        "  phone = int(input(\"Enter phone number = \"))\n",
        "\n",
        "  info[name] = phone\n",
        "\n",
        "print(info)"
      ],
      "metadata": {
        "colab": {
          "base_uri": "https://localhost:8080/"
        },
        "id": "O2dK2NJ1MvUQ",
        "outputId": "9a373559-f8fd-4fab-cedb-5116f5ae431c"
      },
      "execution_count": 2,
      "outputs": [
        {
          "output_type": "stream",
          "name": "stdout",
          "text": [
            "Enter number of data = 2\n",
            "Enter name is  = Salin\n",
            "Enter phone number = 9801818196\n",
            "Enter name is  = Sunita\n",
            "Enter phone number = 9801818192\n",
            "{'Salin': 9801818196, 'Sunita': 9801818192}\n"
          ]
        }
      ]
    },
    {
      "cell_type": "code",
      "source": [
        "mdb = {}\n",
        "\n",
        "n = int(input(\"Enter n = \"))\n",
        "\n",
        "for i in range(n):\n",
        "  name = input(\"Enter name = \")\n",
        "  ncell_num = int(input(\"Enter your Ncell number = \"))\n",
        "  ntc_num = int(input(\"Enter your NTC number = \"))\n",
        "\n",
        "  mdb[name] = [ncell_num,ntc_num]\n",
        "\n",
        "print(mdb)"
      ],
      "metadata": {
        "colab": {
          "base_uri": "https://localhost:8080/"
        },
        "id": "LmooidAkCcGH",
        "outputId": "fb1aff03-cf05-4975-8538-102de066412f"
      },
      "execution_count": 3,
      "outputs": [
        {
          "output_type": "stream",
          "name": "stdout",
          "text": [
            "Enter n = 3\n",
            "Enter name = Salin\n",
            "Enter your Ncell number = 9808214052\n",
            "Enter your NTC number = 9851023654\n",
            "Enter name = Sunita\n",
            "Enter your Ncell number = 9801818192\n",
            "Enter your NTC number = 9851025478\n",
            "Enter name = Ram\n",
            "Enter your Ncell number = 9801818198\n",
            "Enter your NTC number = 9851023659\n",
            "{'Salin': [9808214052, 9851023654], 'Sunita': [9801818192, 9851025478], 'Ram': [9801818198, 9851023659]}\n"
          ]
        }
      ]
    },
    {
      "cell_type": "code",
      "source": [
        "mdb['Salin'][1] = 982020202020\n",
        "mdb"
      ],
      "metadata": {
        "colab": {
          "base_uri": "https://localhost:8080/"
        },
        "id": "sHBXwu-HFZO4",
        "outputId": "db3081ae-22fb-4834-e5cc-b0a7bb12793f"
      },
      "execution_count": 4,
      "outputs": [
        {
          "output_type": "execute_result",
          "data": {
            "text/plain": [
              "{'Salin': [9808214052, 982020202020],\n",
              " 'Sunita': [9801818192, 9851025478],\n",
              " 'Ram': [9801818198, 9851023659]}"
            ]
          },
          "metadata": {},
          "execution_count": 4
        }
      ]
    },
    {
      "cell_type": "code",
      "source": [
        "mdb = {'ID':[],'Name':[],'Job Title':[]}\n",
        "\n",
        "n = int(input(\"Enter number of data = \"))\n",
        "for i in range(n):\n",
        "  id = int(input(\"Enter employee ID = \"))\n",
        "  name = input(\"Enter name of the employee = \")\n",
        "  job_title = input(\"Enter the job title = \")\n",
        "\n",
        "  mdb['ID'].append(id)\n",
        "  mdb['Name'].append(name)\n",
        "  mdb['Job Title'].append(job_title)\n",
        "\n",
        "print(mdb)"
      ],
      "metadata": {
        "colab": {
          "base_uri": "https://localhost:8080/"
        },
        "id": "_Ck2xZpnF0Pg",
        "outputId": "4b79069f-a530-42ef-c169-591e17998faf"
      },
      "execution_count": 7,
      "outputs": [
        {
          "output_type": "stream",
          "name": "stdout",
          "text": [
            "Enter number of data = 3\n",
            "Enter employee ID = 01\n",
            "Enter name of the employee = Ram\n",
            "Enter the job title = Sr. Manager\n",
            "Enter employee ID = 02\n",
            "Enter name of the employee = Shyam\n",
            "Enter the job title = Jr. Executive\n",
            "Enter employee ID = 03\n",
            "Enter name of the employee = Hari\n",
            "Enter the job title = Vice President\n",
            "{'ID': [1, 2, 3], 'Name': ['Ram', 'Shyam', 'Hari'], 'Job Title': ['Sr. Manager', 'Jr. Executive', 'Vice President']}\n"
          ]
        }
      ]
    }
  ]
}