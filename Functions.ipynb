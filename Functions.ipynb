{
  "nbformat": 4,
  "nbformat_minor": 0,
  "metadata": {
    "colab": {
      "provenance": [],
      "authorship_tag": "ABX9TyNokK6kD0FBviar86eCiR0x",
      "include_colab_link": true
    },
    "kernelspec": {
      "name": "python3",
      "display_name": "Python 3"
    },
    "language_info": {
      "name": "python"
    }
  },
  "cells": [
    {
      "cell_type": "markdown",
      "metadata": {
        "id": "view-in-github",
        "colab_type": "text"
      },
      "source": [
        "<a href=\"https://colab.research.google.com/github/SalinSharma666/Data-Science-Projects/blob/main/Functions.ipynb\" target=\"_parent\"><img src=\"https://colab.research.google.com/assets/colab-badge.svg\" alt=\"Open In Colab\"/></a>"
      ]
    },
    {
      "cell_type": "markdown",
      "source": [
        "**Function**"
      ],
      "metadata": {
        "id": "DDy3KfPrX-qP"
      }
    },
    {
      "cell_type": "markdown",
      "source": [
        "A function is a block of organized, reusable code that is used to perform a single, related action."
      ],
      "metadata": {
        "id": "oklABM4aXpzx"
      }
    },
    {
      "cell_type": "markdown",
      "source": [
        "There are two types of functions on the basis of their origin. The two types are:\n",
        "\n",
        "\n",
        "*   Pre - defined functions\n",
        "*   User - defined functions\n",
        "\n"
      ],
      "metadata": {
        "id": "iBfLf3QxYCu1"
      }
    },
    {
      "cell_type": "markdown",
      "source": [
        "Pre - defined functions"
      ],
      "metadata": {
        "id": "6o25YlhoYP4a"
      }
    },
    {
      "cell_type": "code",
      "source": [
        "#int() input() float() str() print() "
      ],
      "metadata": {
        "id": "09FvSy7iYR2M"
      },
      "execution_count": null,
      "outputs": []
    },
    {
      "cell_type": "markdown",
      "source": [
        "User - defined functions"
      ],
      "metadata": {
        "id": "j-QpZjWnYgPH"
      }
    },
    {
      "cell_type": "code",
      "source": [
        "# def <function_name>():\n",
        "  #<operation>\n",
        "\n",
        "#<function_name()>"
      ],
      "metadata": {
        "id": "rUhi4BsUYiGT"
      },
      "execution_count": null,
      "outputs": []
    },
    {
      "cell_type": "code",
      "source": [
        "a = \"Hello World\"\n",
        "\n",
        "print(a)"
      ],
      "metadata": {
        "colab": {
          "base_uri": "https://localhost:8080/"
        },
        "id": "d8q7eabLYyk5",
        "outputId": "b6afc5a2-d461-4ff0-d06c-c83352955fbe"
      },
      "execution_count": null,
      "outputs": [
        {
          "output_type": "stream",
          "name": "stdout",
          "text": [
            "Hello World\n"
          ]
        }
      ]
    },
    {
      "cell_type": "code",
      "source": [
        "def hello(): #defined a functions called hello\n",
        "  print(\"Ram is a good boy\") #gave the function a task.\n",
        "\n",
        "hello() #called the function to execute the given task."
      ],
      "metadata": {
        "colab": {
          "base_uri": "https://localhost:8080/"
        },
        "id": "P-f9QaQ8YOLU",
        "outputId": "cdb6a80e-644c-4e4b-b74b-0ae72e106cf2"
      },
      "execution_count": null,
      "outputs": [
        {
          "output_type": "stream",
          "name": "stdout",
          "text": [
            "Ram is a good boy\n"
          ]
        }
      ]
    },
    {
      "cell_type": "code",
      "source": [
        "def area():\n",
        "  l = int(input(\"Enter length of the rectangle = \")) #variables declared inside the function are called local variables.\n",
        "  b = int(input(\"Enter breadth of the rectangle = \")) #local variable\n",
        "  a = l*b\n",
        "  print(\"The area of the given rectangle is\",a)\n",
        "\n",
        "area()"
      ],
      "metadata": {
        "colab": {
          "base_uri": "https://localhost:8080/"
        },
        "id": "HxrSV--dZc7J",
        "outputId": "15635ce8-b1e0-44b4-c27f-5d202ce5b936"
      },
      "execution_count": null,
      "outputs": [
        {
          "output_type": "stream",
          "name": "stdout",
          "text": [
            "Enter length of the rectangle = 20\n",
            "Enter breadth of the rectangle = 50\n",
            "The area of the given rectangle is 1000\n"
          ]
        }
      ]
    },
    {
      "cell_type": "code",
      "source": [
        "l = int(input(\"Enter length of the rectangle = \")) #Global variables \n",
        "b = int(input(\"Enter breadth of the rectangle = \")) #The variables that are declared outside the function are called global variables. These could be accessible from anywhere in the code\n",
        "\n",
        "def area():\n",
        "  print(\"The area of the rectangle is\",l*b)\n",
        "\n",
        "area()"
      ],
      "metadata": {
        "colab": {
          "base_uri": "https://localhost:8080/"
        },
        "id": "0mJADtzPaHTk",
        "outputId": "35d9a070-5e45-47d7-86e1-fd881f45a6a3"
      },
      "execution_count": null,
      "outputs": [
        {
          "output_type": "stream",
          "name": "stdout",
          "text": [
            "Enter length of the rectangle = 50\n",
            "Enter breadth of the rectangle = 20\n",
            "The area of the rectangle is 1000\n"
          ]
        }
      ]
    },
    {
      "cell_type": "code",
      "source": [
        "#TYPES OF FUNCTIONS BASED ON THEIR RETURN VALUES:\n",
        "\n",
        "# function without argument and no return type\n",
        "# function with argument and no return type\n",
        "# function without argument and return type\n",
        "# function with argument and return type"
      ],
      "metadata": {
        "id": "JvadbSIlaqm9"
      },
      "execution_count": null,
      "outputs": []
    },
    {
      "cell_type": "code",
      "source": [
        "# function with argument and no return type\n",
        "l = int(input(\"Enter l = \"))      #global variable\n",
        "b = int(input(\"Enter b = \"))      #global variable\n",
        "\n",
        "def area(x,y):   #parameter\n",
        "    a = x*y\n",
        "    print(a)\n",
        "    \n",
        "area(l,b)     #argument"
      ],
      "metadata": {
        "colab": {
          "base_uri": "https://localhost:8080/"
        },
        "id": "_ZpD0j3aa5cT",
        "outputId": "43bb7ce0-4bc3-4216-dcb3-2395ba76492e"
      },
      "execution_count": null,
      "outputs": [
        {
          "output_type": "stream",
          "name": "stdout",
          "text": [
            "Enter l = 5\n",
            "Enter b = 6\n",
            "30\n"
          ]
        }
      ]
    },
    {
      "cell_type": "code",
      "source": [
        "p = int(input(\"Enter principle amount = \"))\n",
        "t = int(input(\"Enter time of interest = \"))\n",
        "r = int(input(\"Enter rate of interest = \"))\n",
        "\n",
        "def simple_interest(x,y,z): #parameter\n",
        "  si = (x*y*z)/100\n",
        "  print(\"The simple interest is\",si)\n",
        "\n",
        "simple_interest(p,t,r) #argument"
      ],
      "metadata": {
        "colab": {
          "base_uri": "https://localhost:8080/"
        },
        "id": "Fusiy3xRcCt9",
        "outputId": "c43830af-b246-4904-fb65-14476f342481"
      },
      "execution_count": null,
      "outputs": [
        {
          "output_type": "stream",
          "name": "stdout",
          "text": [
            "Enter principle amount = 500000\n",
            "Enter time of interest = 2\n",
            "Enter rate of interest = 7\n",
            "The simple interest is 70000.0\n"
          ]
        }
      ]
    },
    {
      "cell_type": "markdown",
      "source": [
        "In the above program, we declared some required variables for the calculation, then we passed the same variables as arguments while calling the function. The parameters in the defined function do not necessarily have to be the same variables we declared. In this case, we had passed variables p,t,r as arguments but the variables defined in the funciton are x,y,z. The key here is that the variables declared should be the same as the arguments passed. However, the variables in the defined function can be different."
      ],
      "metadata": {
        "id": "N_MsELsOd4G1"
      }
    },
    {
      "cell_type": "code",
      "source": [
        "h = int(input(\"Enter height of the body = \"))\n",
        "d = float(input(\"Enter density of the body = \"))\n",
        "\n",
        "def potential_energy(p,q):\n",
        "  print(\"The potential energy is\",p*q*9.8)\n",
        "\n",
        "potential_energy(h,d)"
      ],
      "metadata": {
        "colab": {
          "base_uri": "https://localhost:8080/"
        },
        "id": "0vcGm8wHei2C",
        "outputId": "7f36f77e-209e-4e83-e498-45803d1de2b7"
      },
      "execution_count": null,
      "outputs": [
        {
          "output_type": "stream",
          "name": "stdout",
          "text": [
            "Enter height of the body = 100\n",
            "Enter density of the body = 10.5\n",
            "The potential energy is 10290.0\n"
          ]
        }
      ]
    },
    {
      "cell_type": "code",
      "source": [
        "mass = int(input(\"Enter mass of the moving body = \"))\n",
        "velocity = int(input(\"Enter velocity of the moving body\"))\n",
        "\n",
        "def kinetic_energy(a,b):\n",
        "  ke = 1/2*(a*b**2)\n",
        "  print(\"The kinetic energy of the moving body is\",ke,\".\")\n",
        "\n",
        "kinetic_energy(mass,velocity)"
      ],
      "metadata": {
        "colab": {
          "base_uri": "https://localhost:8080/"
        },
        "id": "W-dlgqO8fvTy",
        "outputId": "f4e4081d-528b-4da9-d046-51effef4ce73"
      },
      "execution_count": null,
      "outputs": [
        {
          "output_type": "stream",
          "name": "stdout",
          "text": [
            "Enter mass of the moving body = 5000\n",
            "Enter velocity of the moving body100\n",
            "The kinetic energy of the moving body is 25000000.0 .\n"
          ]
        }
      ]
    },
    {
      "cell_type": "code",
      "source": [
        "l = int(input(\"Enter length of the body = \"))\n",
        "b = int(input(\"Enter breadth of the body = \"))\n",
        "h = int(input(\"Enter height of the body = \"))\n",
        "\n",
        "def rohesh():\n",
        "  v = l*b*h\n",
        "  print(\"The volume of the body is\",v)\n",
        "\n",
        "rohesh()"
      ],
      "metadata": {
        "id": "7SzSlbLHa5LD",
        "colab": {
          "base_uri": "https://localhost:8080/"
        },
        "outputId": "1850c033-2af4-4d7d-9d7f-a3b1bac738da"
      },
      "execution_count": null,
      "outputs": [
        {
          "output_type": "stream",
          "name": "stdout",
          "text": [
            "Enter length of the body = 30\n",
            "Enter breadth of the body = 60\n",
            "Enter height of the body = 63\n",
            "The volume of the body is 113400\n"
          ]
        }
      ]
    },
    {
      "cell_type": "code",
      "source": [
        "# function without argument and return type"
      ],
      "metadata": {
        "id": "omuYORooa47c"
      },
      "execution_count": null,
      "outputs": []
    },
    {
      "cell_type": "code",
      "source": [
        "def hello():\n",
        "  return(\"Hello World, I am Python.\")\n",
        "\n",
        "hello()"
      ],
      "metadata": {
        "colab": {
          "base_uri": "https://localhost:8080/",
          "height": 35
        },
        "id": "0yVx7LI9mU6Y",
        "outputId": "0a66c2dd-a313-4d09-b889-8c731ecd1dbf"
      },
      "execution_count": null,
      "outputs": [
        {
          "output_type": "execute_result",
          "data": {
            "text/plain": [
              "'Hello World, I am Python.'"
            ],
            "application/vnd.google.colaboratory.intrinsic+json": {
              "type": "string"
            }
          },
          "metadata": {},
          "execution_count": 5
        }
      ]
    },
    {
      "cell_type": "code",
      "source": [
        "def force():\n",
        "  m = int(input('Enter mass of the body = '))\n",
        "  a = float(input('Enter acceleration of the body = '))\n",
        "  f = m*a\n",
        "  return f\n",
        "\n",
        "force()\n"
      ],
      "metadata": {
        "colab": {
          "base_uri": "https://localhost:8080/"
        },
        "id": "_hleHj34mpyO",
        "outputId": "ddf33fa1-6cf8-48e2-f366-d634bc00fb32"
      },
      "execution_count": null,
      "outputs": [
        {
          "name": "stdout",
          "output_type": "stream",
          "text": [
            "Enter mass of the body = 500\n",
            "Enter acceleration of the body = 2.3\n"
          ]
        },
        {
          "output_type": "execute_result",
          "data": {
            "text/plain": [
              "1150.0"
            ]
          },
          "metadata": {},
          "execution_count": 6
        }
      ]
    },
    {
      "cell_type": "code",
      "source": [
        "def circle_area():\n",
        "  r = int(input(\"Enter radius of the circle = \"))\n",
        "  a = 3.14*r**2\n",
        "\n",
        "  return a\n",
        "\n",
        "\n",
        "circle_area()"
      ],
      "metadata": {
        "colab": {
          "base_uri": "https://localhost:8080/"
        },
        "id": "gl_-V-mknZ_c",
        "outputId": "bc7e0100-4561-46e7-c68e-000c5f38499c"
      },
      "execution_count": null,
      "outputs": [
        {
          "name": "stdout",
          "output_type": "stream",
          "text": [
            "Enter radius of the circle = 30\n"
          ]
        },
        {
          "output_type": "execute_result",
          "data": {
            "text/plain": [
              "2826.0"
            ]
          },
          "metadata": {},
          "execution_count": 10
        }
      ]
    },
    {
      "cell_type": "code",
      "source": [
        "def area():\n",
        "  l = int(input(\"Enter length of the rectangle = \"))\n",
        "  b = int(input(\"Enter breadth of the rectangle = \"))\n",
        "  a = l*b\n",
        "\n",
        "  return a\n",
        "\n",
        "lb = area()\n",
        "h = 5\n",
        "\n",
        "print(\"The area of the rectangle is\",area())\n",
        "print(\"The volume of the rectangle is\",lb*h,\".\")"
      ],
      "metadata": {
        "id": "W1NUJdwPo91S"
      },
      "execution_count": null,
      "outputs": []
    }
  ]
}